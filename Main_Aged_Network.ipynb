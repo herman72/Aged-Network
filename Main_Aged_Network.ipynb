{
 "cells": [
  {
   "cell_type": "markdown",
   "metadata": {},
   "source": [
    "## Created By: Mohammad Sherafati, 2Dec 2018, m.sherafati7@gmail.com"
   ]
  },
  {
   "cell_type": "markdown",
   "metadata": {},
   "source": [
    "### Import Packages"
   ]
  },
  {
   "cell_type": "code",
   "execution_count": 128,
   "metadata": {},
   "outputs": [],
   "source": [
    "from scipy.misc import comb\n",
    "import seaborn as sns\n",
    "import numpy as np\n",
    "import random as rnd\n",
    "import matplotlib.pyplot as plt\n",
    "import multiprocessing as mp\n",
    "import matplotlib.patches as mpatches"
   ]
  },
  {
   "cell_type": "markdown",
   "metadata": {},
   "source": [
    "### Variable"
   ]
  },
  {
   "cell_type": "code",
   "execution_count": 85,
   "metadata": {},
   "outputs": [],
   "source": [
    "Set_Age = 100\n",
    "ensemble = 1"
   ]
  },
  {
   "cell_type": "markdown",
   "metadata": {},
   "source": [
    "### Function"
   ]
  },
  {
   "cell_type": "code",
   "execution_count": 86,
   "metadata": {},
   "outputs": [],
   "source": [
    "\n",
    "def Calculate_Energy(i,j,Energy_Adj):\n",
    "\n",
    "    Sum = 0\n",
    "\n",
    "    for k in range(len(Energy_Adj)):\n",
    "\n",
    "        Sum += Energy_Adj[i,k] * Energy_Adj[j,k]\n",
    "\n",
    "    return (((-Sum) * Energy_Adj[i,j])/comb(len(Energy_Adj),3))\n",
    "\n",
    "\n",
    "\n",
    "\n",
    "\n",
    "def Cal_Ene_Tot(Energy_Adj,Node):\n",
    "    Ene_Tot = 0\n",
    "\n",
    "    for i in range(len(Energy_Adj)):\n",
    "        for j in range(len(Energy_Adj)):\n",
    "            Ene_Tot += Calculate_Energy(i, j, Energy_Adj)\n",
    "\n",
    "    return (Ene_Tot) /6"
   ]
  },
  {
   "cell_type": "markdown",
   "metadata": {},
   "source": [
    "### Main Code"
   ]
  },
  {
   "cell_type": "code",
   "execution_count": 166,
   "metadata": {},
   "outputs": [],
   "source": [
    "def Mainfunc(Node,age,iterate,ensemble):\n",
    "\n",
    "    Node = Node\n",
    "    Tot_Time = np.zeros((1, 20000))\n",
    "    Tot_Ene = np.zeros((1, 20000))\n",
    "    ensemble = ensemble\n",
    "    age = age\n",
    "    iterate = iterate\n",
    "    Aging = np.ones((Node,Node),dtype=int)\n",
    "    Age_Imshow = []\n",
    "    Age_Counter = 1\n",
    "\n",
    "    '''Main'''\n",
    "\n",
    "\n",
    "    #ensumble\n",
    "    for ens in range(ensemble):\n",
    "\n",
    "\n",
    "        T = 0                                                 #Step\n",
    "        Time = []                                             #List Step\n",
    "        Energy_Adj = np.zeros((Node,Node),dtype=int)          #Energy Matrix(staet random)\n",
    "        Mat_Energy = []                                       #Save Energy in every step\n",
    "        Age_adj = np.zeros((Node, Node), dtype=int)           #Age Matrix\n",
    "        Eold = 0\n",
    "\n",
    "        \n",
    "        #add Gussian age to nodes\n",
    "        Random_gaussian = np.random.normal(0,1,(Node,Node))\n",
    "        Age_gaussian = np.absolute(Random_gaussian - np.mean(Random_gaussian))\n",
    "        Age_gaussian = np.triu(Age_gaussian, k=1)\n",
    "        Age_adj = np.copy(Age_gaussian)\n",
    "\n",
    "        \n",
    "        \n",
    "        #Create Random First State\n",
    "        for i in range(len(Energy_Adj)):\n",
    "            \n",
    "            for j in range(i,len(Energy_Adj)):\n",
    "                Energy_Adj[i, j] = rnd.choice([-1, 1])\n",
    "                Energy_Adj[j, i] = Energy_Adj[i, j]\n",
    "#                 Age_adj[i, j] =    Age_gaussian[j]                 #rnd.randint(0,age)\n",
    "#                 Age_adj[j, i] = Age_adj[i, j]\n",
    "                Age_adj[j,i] = Age_adj[i,j]\n",
    "\n",
    "\n",
    "        #Zero Diognal\n",
    "\n",
    "        np.fill_diagonal(Energy_Adj,0)\n",
    "        np.fill_diagonal(Age_adj,0)\n",
    "        np.fill_diagonal(Aging, 0)\n",
    "        \n",
    "        Age_Imshow.append(Age_adj)\n",
    "        # for i in range(len(Energy_Adj)):\n",
    "        #     Energy_Adj[i, i] = 0\n",
    "        #     Age_adj[i, i] = 0\n",
    "        #     Aging[i,i] = 0\n",
    "\n",
    "\n",
    "\n",
    "        Eold = Cal_Ene_Tot(Energy_Adj, Node)\n",
    "        Copy_Ene_mat = np.copy(Energy_Adj)\n",
    "\n",
    "\n",
    "\n",
    "    #def func(Node,iterate,Energy_Adj):\n",
    "\n",
    "\n",
    "\n",
    "\n",
    "\n",
    "        for t in range(iterate):\n",
    "\n",
    "            Age_network =0\n",
    "            dE = 0\n",
    "            Age_network = Age_adj.max()                       #Find Oldest link\n",
    "\n",
    "\n",
    "            #Change old links with random links\n",
    "            if Age_network == age:\n",
    "                dE = 0\n",
    "                for i in range(Node):\n",
    "                    for j in range(Node):\n",
    "                        p = 0\n",
    "                        p = rnd.choice([-1, 1])\n",
    "\n",
    "                        if Age_adj[i, j] == age:\n",
    "                            Energy_Adj[i, j] = p * Energy_Adj[i, j]\n",
    "                            Energy_Adj[j, i] = p * Energy_Adj[j, i]\n",
    "                            Copy_Ene_mat[i, j] = Energy_Adj[i, j]\n",
    "                            Copy_Ene_mat[j, i] = Energy_Adj[j, i]\n",
    "\n",
    "                            Age_adj[i, j] = 0\n",
    "                            Age_adj[j, i] = 0\n",
    "\n",
    "                            newE = Calculate_Energy(i, j, Energy_Adj)\n",
    "                            oldE = p * Calculate_Energy(i, j, Energy_Adj)\n",
    "                            dE += newE - oldE\n",
    "\n",
    "                Eold += dE\n",
    "                T += 1\n",
    "                Time.append(T)\n",
    "                Mat_Energy.append(Eold)\n",
    "\n",
    "\n",
    "\n",
    "\n",
    "            #Change links with energy properties\n",
    "\n",
    "            i = rnd.randint(0, Node-1)\n",
    "            j = rnd.randint(0, Node-1)\n",
    "\n",
    "            Copy_Ene_mat[i, j] = -Copy_Ene_mat[i, j]\n",
    "            Copy_Ene_mat[j, i] = -Copy_Ene_mat[j, i]\n",
    "\n",
    "            dE = 0\n",
    "            dE = -2 * Calculate_Energy(i, j, Copy_Ene_mat)\n",
    "            if 0 < dE:\n",
    "\n",
    "                Energy_Adj[i, j] = -Energy_Adj[i, j]\n",
    "                Energy_Adj[j, i] = -Energy_Adj[j, i]\n",
    "\n",
    "                Eold = Eold - dE\n",
    "\n",
    "                Mat_Energy.append(Eold)\n",
    "                T +=1\n",
    "                Time.append(T)\n",
    "\n",
    "                Age_adj = Age_adj + Aging\n",
    "                Age_adj[i, j] = 0\n",
    "                Age_adj[j, i] = 0\n",
    "\n",
    "            else:\n",
    "                Copy_Ene_mat[i, j] = Energy_Adj[i, j]\n",
    "                Copy_Ene_mat[j, i] = Energy_Adj[j, i]\n",
    "                T += 1\n",
    "                Time.append(T)\n",
    "                Mat_Energy.append(Eold)\n",
    "\n",
    "            if iterate == 100 * Age_Counter:\n",
    "                Age_Imshow.append(Age_adj)\n",
    "                Age_Counter += 1\n",
    "\n",
    "    return Time, Mat_Energy, Age_adj, Age_Imshow\n"
   ]
  },
  {
   "cell_type": "code",
   "execution_count": 167,
   "metadata": {},
   "outputs": [],
   "source": [
    "Fun_Test = Mainfunc(32,100000,5000,1)"
   ]
  },
  {
   "cell_type": "code",
   "execution_count": 168,
   "metadata": {},
   "outputs": [
    {
     "data": {
      "text/plain": [
       "97.080376300814649"
      ]
     },
     "execution_count": 168,
     "metadata": {},
     "output_type": "execute_result"
    }
   ],
   "source": [
    "np.std(Fun_Test[2])"
   ]
  },
  {
   "cell_type": "code",
   "execution_count": 169,
   "metadata": {},
   "outputs": [
    {
     "data": {
      "text/plain": [
       "[<matplotlib.lines.Line2D at 0x7fb60015a320>]"
      ]
     },
     "execution_count": 169,
     "metadata": {},
     "output_type": "execute_result"
    },
    {
     "data": {
      "image/png": "[encoded data removed]",
      "text/plain": [
       "<Figure size 432x288 with 1 Axes>"
      ]
     },
     "metadata": {},
     "output_type": "display_data"
    }
   ],
   "source": [
    "plt.plot(Fun_Test[0],Fun_Test[1])"
   ]
  },
  {
   "cell_type": "code",
   "execution_count": 170,
   "metadata": {},
   "outputs": [
    {
     "data": {
      "text/plain": [
       "<matplotlib.axes._subplots.AxesSubplot at 0x7fb600064be0>"
      ]
     },
     "execution_count": 170,
     "metadata": {},
     "output_type": "execute_result"
    },
    {
     "data": {
      "image/png": "[encoded data removed]",
      "text/plain": [
       "<Figure size 432x288 with 1 Axes>"
      ]
     },
     "metadata": {},
     "output_type": "display_data"
    }
   ],
   "source": [
    "sns.kdeplot(np.reshape(Fun_Test[2],(1,len(Fun_Test[2])**2))[0])"
   ]
  },
  {
   "cell_type": "code",
   "execution_count": 171,
   "metadata": {},
   "outputs": [
    {
     "data": {
      "text/plain": [
       "<matplotlib.axes._subplots.AxesSubplot at 0x7fb5fffb8c88>"
      ]
     },
     "execution_count": 171,
     "metadata": {},
     "output_type": "execute_result"
    },
    {
     "data": {
      "image/png": "[encoded data removed]",
      "text/plain": [
       "<Figure size 432x288 with 1 Axes>"
      ]
     },
     "metadata": {},
     "output_type": "display_data"
    }
   ],
   "source": [
    "sns.distplot(np.reshape(Fun_Test[2],(1,len(Fun_Test[2])**2))[0])"
   ]
  },
  {
   "cell_type": "code",
   "execution_count": 196,
   "metadata": {},
   "outputs": [
    {
     "data": {
      "text/plain": [
       "array([ 0.29948133,  0.19665327,  0.33338875,  1.55389187,  0.46567912,\n",
       "        1.09006698,  0.81145358,  0.44827472,  0.30504896,  1.31013252,\n",
       "        0.29189107,  0.34309155,  0.08381877,  0.27680685,  0.16393654,\n",
       "        0.72651446,  0.25052773,  0.3667594 ,  1.35718284,  0.87329499,\n",
       "        1.78045393,  1.10384794,  0.27461796,  0.57713361,  0.12418128,\n",
       "        0.62050154,  0.44045525,  1.07801217,  0.9641954 ,  0.83295237,\n",
       "        0.08771291,  0.        ])"
      ]
     },
     "execution_count": 196,
     "metadata": {},
     "output_type": "execute_result"
    }
   ],
   "source": [
    "Fun_Test[3][0][-1]"
   ]
  },
  {
   "cell_type": "code",
   "execution_count": null,
   "metadata": {},
   "outputs": [],
   "source": [
    "for i in range()"
   ]
  },
  {
   "cell_type": "code",
   "execution_count": 192,
   "metadata": {},
   "outputs": [
    {
     "data": {
      "text/plain": [
       "[array([[ 0.        ,  0.03765137,  0.29628301, ...,  1.64974074,\n",
       "          0.60893021,  0.29948133],\n",
       "        [ 0.03765137,  0.        ,  0.67687309, ...,  0.44970391,\n",
       "          0.55506859,  0.19665327],\n",
       "        [ 0.29628301,  0.67687309,  0.        , ...,  0.74916409,\n",
       "          0.88370767,  0.33338875],\n",
       "        ..., \n",
       "        [ 1.64974074,  0.44970391,  0.74916409, ...,  0.        ,\n",
       "          0.02062507,  0.83295237],\n",
       "        [ 0.60893021,  0.55506859,  0.88370767, ...,  0.02062507,\n",
       "          0.        ,  0.08771291],\n",
       "        [ 0.29948133,  0.19665327,  0.33338875, ...,  0.83295237,\n",
       "          0.08771291,  0.        ]])]"
      ]
     },
     "execution_count": 192,
     "metadata": {},
     "output_type": "execute_result"
    }
   ],
   "source": [
    "Fun_Test[3]"
   ]
  },
  {
   "cell_type": "code",
   "execution_count": 224,
   "metadata": {},
   "outputs": [],
   "source": [
    "Random_gaussian = np.random.normal(0,100,(100,100))\n",
    "Age_gaussian = np.absolute(Random_gaussian - np.mean(Random_gaussian))\n",
    "Age_gaussian = np.triu(Age_gaussian, k=1)\n",
    "Age_adj = np.copy(Age_gaussian)\n",
    "for i in range(len(Energy_Adj)):\n",
    "            \n",
    "            for j in range(i,len(Age_adj)):\n",
    "                \n",
    "                Age_adj[j,i] = Age_adj[i,j]\n"
   ]
  },
  {
   "cell_type": "code",
   "execution_count": 225,
   "metadata": {},
   "outputs": [],
   "source": [
    "#Age_adj = Age_adj.round().astype(int)"
   ]
  },
  {
   "cell_type": "code",
   "execution_count": 226,
   "metadata": {},
   "outputs": [],
   "source": [
    "a = Age_adj[~np.eye(Age_adj.shape[0],dtype=bool)].reshape(Age_adj.shape[0],-1)"
   ]
  },
  {
   "cell_type": "code",
   "execution_count": 229,
   "metadata": {},
   "outputs": [],
   "source": [
    "a = a.round().astype(int)"
   ]
  },
  {
   "cell_type": "code",
   "execution_count": 230,
   "metadata": {},
   "outputs": [
    {
     "data": {
      "text/plain": [
       "<matplotlib.axes._subplots.AxesSubplot at 0x7fb5ff06b2b0>"
      ]
     },
     "execution_count": 230,
     "metadata": {},
     "output_type": "execute_result"
    },
    {
     "data": {
      "image/png": "[encoded data removed]",
      "text/plain": [
       "<Figure size 432x288 with 1 Axes>"
      ]
     },
     "metadata": {},
     "output_type": "display_data"
    }
   ],
   "source": [
    "sns.distplot(a[0])"
   ]
  },
  {
   "cell_type": "code",
   "execution_count": null,
   "metadata": {},
   "outputs": [],
   "source": []
  }
 ],
 "metadata": {
  "kernelspec": {
   "display_name": "Python 3",
   "language": "python",
   "name": "python3"
  },
  "language_info": {
   "codemirror_mode": {
    "name": "ipython",
    "version": 3
   },
   "file_extension": ".py",
   "mimetype": "text/x-python",
   "name": "python",
   "nbconvert_exporter": "python",
   "pygments_lexer": "ipython3",
   "version": "3.6.6"
  }
 },
 "nbformat": 4,
 "nbformat_minor": 2
}
