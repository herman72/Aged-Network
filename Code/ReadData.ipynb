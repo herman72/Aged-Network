{
 "cells": [
  {
   "cell_type": "markdown",
   "metadata": {},
   "source": [
    "## Created By: Mohammad Sherafati(Herman), 3Feb 2019, m.sherafati7@gmail.com"
   ]
  },
  {
   "cell_type": "markdown",
   "metadata": {},
   "source": [
    "### Import Packages"
   ]
  },
  {
   "cell_type": "code",
   "execution_count": 1,
   "metadata": {},
   "outputs": [],
   "source": [
    "import numpy as np\n",
    "import matplotlib.pyplot as plt"
   ]
  },
  {
   "cell_type": "markdown",
   "metadata": {},
   "source": [
    "### Variable"
   ]
  },
  {
   "cell_type": "code",
   "execution_count": 2,
   "metadata": {},
   "outputs": [],
   "source": [
    "Time = np.loadtxt('/home/mohammad/Documents/Thesis/Aged-Network/Code/Output/T128.txt')"
   ]
  },
  {
   "cell_type": "code",
   "execution_count": 3,
   "metadata": {},
   "outputs": [
    {
     "data": {
      "text/plain": [
       "1.0088582677165354"
      ]
     },
     "execution_count": 3,
     "metadata": {},
     "output_type": "execute_result"
    }
   ],
   "source": [
    "Time[-1]"
   ]
  },
  {
   "cell_type": "code",
   "execution_count": 4,
   "metadata": {},
   "outputs": [],
   "source": [
    "Sum_STD = 0\n",
    "List_Std_All = []\n",
    "for i in range(16):\n",
    "    File_STD = 0\n",
    "    File_STD = np.loadtxt('/home/mohammad/Documents/Thesis/Aged-Network/Code/Output/E128'+str(i)+'.txt')\n",
    "    List_Std_All.append(File_STD)\n",
    "    Sum_STD = Sum_STD + File_STD\n",
    "Sum_STD = (Sum_STD/16)\n",
    "np.savetxt('EFinal128.txt', Sum_STD)\n",
    "# STD1 = np.loadtxt('/home/mohammad/Documents/Thesis/Aged-Network/Code/Output/STD130.txt')\n",
    "# STD2 = np.loadtxt('/home/mohammad/Documents/Thesis/Aged-Network/Code/Output/STD140.txt')"
   ]
  },
  {
   "cell_type": "markdown",
   "metadata": {},
   "source": [
    "### Error Bar"
   ]
  },
  {
   "cell_type": "code",
   "execution_count": 5,
   "metadata": {},
   "outputs": [],
   "source": [
    "\n",
    "Error_Bar_STD = []\n",
    "for i in range(len(List_Std_All[1])):\n",
    "    List = []\n",
    "    \n",
    "    for j in range(16):\n",
    "        List.append(List_Std_All[j][i])\n",
    "    Error_Bar_STD.append((np.std(List)/len(List)))\n",
    "Error_Bar_STD = np.array(Error_Bar_STD)\n",
    "Error_Bar_STD = np.reshape(Error_Bar_STD,(len(Error_Bar_STD),1))"
   ]
  },
  {
   "cell_type": "code",
   "execution_count": 6,
   "metadata": {},
   "outputs": [],
   "source": [
    "#Error_Bar_STD[100:200]"
   ]
  },
  {
   "cell_type": "code",
   "execution_count": 32,
   "metadata": {},
   "outputs": [],
   "source": [
    "Sum_STD100 = 0\n",
    "List_Std100_All = []\n",
    "for i in range(16):\n",
    "    File_STD = 0\n",
    "    File_STD = np.loadtxt('/home/mohammad/Documents/Thesis/Aged-Network/Code/Output100/STD100'+str(i)+str(64)+'.txt')\n",
    "    List_Std100_All.append(File_STD)\n",
    "    Sum_STD100 = Sum_STD100 + File_STD\n",
    "Sum_STD100 = (Sum_STD100/16)"
   ]
  },
  {
   "cell_type": "code",
   "execution_count": 33,
   "metadata": {},
   "outputs": [],
   "source": [
    "\n",
    "Error_Bar_STD100 = []\n",
    "for i in range(len(List_Std100_All[1])):\n",
    "    List = []\n",
    "    \n",
    "    for j in range(16):\n",
    "        List.append(List_Std100_All[j][i])\n",
    "    Error_Bar_STD100.append((np.std(List)/len(List)))\n",
    "Error_Bar_STD100 = np.array(Error_Bar_STD100)\n",
    "Error_Bar_STD100 = np.reshape(Error_Bar_STD100,(len(Error_Bar_STD100),1))"
   ]
  },
  {
   "cell_type": "code",
   "execution_count": 7,
   "metadata": {},
   "outputs": [
    {
     "data": {
      "text/plain": [
       "array([-0.02218541, -0.02257166, -0.02308484, -0.02349421, -0.02385987,\n",
       "       -0.02423748, -0.02493462, -0.02509317, -0.02559477, -0.02593273,\n",
       "       -0.02624634, -0.02687705, -0.02722141, -0.02748554, -0.02812313,\n",
       "       -0.02848424, -0.02899328, -0.02923373, -0.02972839, -0.03039549,\n",
       "       -0.0305636 , -0.03115323, -0.0316383 , -0.03223176, -0.03255991,\n",
       "       -0.03297211, -0.03335188, -0.03395584, -0.03432908, -0.03487824,\n",
       "       -0.03514741, -0.03584776, -0.03632409, -0.0367208 , -0.03735663,\n",
       "       -0.03780447, -0.03807387, -0.03858667, -0.03905367, -0.03960146,\n",
       "       -0.04005351, -0.04046903, -0.04086751, -0.04170687, -0.04234406,\n",
       "       -0.04256441, -0.04327689, -0.04381404, -0.04406662, -0.04439365,\n",
       "       -0.0454844 , -0.04572717, -0.04623525, -0.04663677, -0.0472634 ,\n",
       "       -0.04813257, -0.04832729, -0.0492148 , -0.04950542, -0.05048933,\n",
       "       -0.05094634, -0.05145825, -0.05195887, -0.05251862, -0.05335327,\n",
       "       -0.05403159, -0.05892717, -0.05776767, -0.05922612, -0.06159106,\n",
       "       -0.0678288 , -0.07431706, -0.07241994, -0.07979654, -0.0781907 ,\n",
       "       -0.08383889, -0.0882287 , -0.09447766, -0.10372642, -0.10422827,\n",
       "       -0.10476489, -0.11525595, -0.1185696 , -0.11655608, -0.12752618,\n",
       "       -0.13395032, -0.13920018, -0.13883139, -0.14950449, -0.14330255,\n",
       "       -0.14871236, -0.15334389, -0.15731877, -0.16522633, -0.16561862,\n",
       "       -0.16938355, -0.16850005, -0.17916726, -0.18847923, -0.19433684,\n",
       "       -0.19424027, -0.19790878, -0.20456036, -0.20733685, -0.20662239,\n",
       "       -0.21834469, -0.2226364 , -0.22382338, -0.23014509, -0.2287045 ,\n",
       "       -0.23080286, -0.2502064 , -0.25318016, -0.24311743, -0.2610944 ,\n",
       "       -0.26204297, -0.26769072, -0.27395711, -0.2807179 , -0.28361246,\n",
       "       -0.2867206 , -0.28398462, -0.29679954, -0.29987675, -0.30302164,\n",
       "       -0.30292279, -0.32309394, -0.3192308 , -0.32279823, -0.32713362,\n",
       "       -0.34337629, -0.34658539, -0.34720071, -0.35211286, -0.37052558,\n",
       "       -0.36096245, -0.35928746, -0.37686891, -0.36904607, -0.39182884,\n",
       "       -0.38309924, -0.38001312, -0.39178114, -0.39994437, -0.40925609,\n",
       "       -0.39554156, -0.39329631, -0.44039596, -0.44988857, -0.46230663,\n",
       "       -0.49531944, -0.45589803, -0.48898962, -0.47674215, -0.47414077,\n",
       "       -0.5071553 , -0.51141956, -0.5190233 , -0.52198796, -0.51741172,\n",
       "       -0.50947343, -0.51376061, -0.52145592, -0.51796661, -0.52560381,\n",
       "       -0.53156621, -0.50487481, -0.52702284, -0.52727926, -0.52759378,\n",
       "       -0.53413471, -0.51320523, -0.52399658, -0.52651034, -0.52823435,\n",
       "       -0.52701132, -0.53107056, -0.53093331, -0.52419539, -0.53411419,\n",
       "       -0.51903925, -0.53636928, -0.53193877, -0.53071217, -0.52005331,\n",
       "       -0.52143552, -0.52920375, -0.5172427 , -0.53036825, -0.52854919,\n",
       "       -0.52501888, -0.53335517, -0.52476695, -0.52323959, -0.52887408,\n",
       "       -0.51718162, -0.5187761 , -0.54176034, -0.52026743, -0.5195646 ,\n",
       "       -0.54812293, -0.52377685, -0.54356284, -0.5365893 , -0.52134127,\n",
       "       -0.55421979, -0.52376338, -0.53520869, -0.5404964 , -0.51767341,\n",
       "       -0.55494043, -0.54143344, -0.55548227, -0.51826116, -0.56295331,\n",
       "       -0.53594394, -0.56051833, -0.54299693, -0.52577635, -0.54585992,\n",
       "       -0.60452997, -0.57916334, -0.57759795, -0.55347056, -0.55010999,\n",
       "       -0.57553318, -0.62409233, -0.60106234, -0.63987951, -0.60940744,\n",
       "       -0.61939887, -0.61554905, -0.60006588, -0.64964971, -0.62740369,\n",
       "       -0.60431568, -0.66374364, -0.64264924, -0.64537624, -0.65038299,\n",
       "       -0.64240964, -0.6506722 , -0.61610291, -0.64008537, -0.66064489,\n",
       "       -0.66003971, -0.66053483, -0.63999848, -0.62578478, -0.65596197,\n",
       "       -0.63257366, -0.63812477, -0.64269644, -0.66980212, -0.66387515,\n",
       "       -0.6488706 , -0.6475985 , -0.67899776, -0.66700448, -0.66458716,\n",
       "       -0.65318417, -0.67680524, -0.67147502, -0.67223976, -0.65858089,\n",
       "       -0.66791113, -0.65170713, -0.66340493, -0.66060196, -0.66483054,\n",
       "       -0.65743464, -0.66036142, -0.66904163, -0.66731584, -0.66782697,\n",
       "       -0.65190826, -0.66164226, -0.67448107, -0.65065293, -0.67222795,\n",
       "       -0.66376435, -0.65845148, -0.66168791, -0.66650538, -0.67390268,\n",
       "       -0.65026903, -0.66766704, -0.66506017, -0.66180402, -0.66737789,\n",
       "       -0.64892092, -0.64992326, -0.66324672, -0.67115464, -0.66682087,\n",
       "       -0.67471678, -0.67194048, -0.65920234, -0.67122445, -0.66535351,\n",
       "       -0.66732898, -0.65968741, -0.66285906, -0.66705338, -0.66034448,\n",
       "       -0.65595848, -0.67614605, -0.66657856, -0.66404496, -0.67963435,\n",
       "       -0.65443222, -0.66409625, -0.66961975, -0.65232606, -0.65749016,\n",
       "       -0.66320043, -0.67409466, -0.67621411, -0.66554269, -0.66803824,\n",
       "       -0.66606826, -0.6515078 , -0.67211528, -0.66538281, -0.65990254,\n",
       "       -0.67837616, -0.67384794, -0.66725253, -0.65612995, -0.65281677,\n",
       "       -0.66661162, -0.67078051, -0.66991122, -0.67770201, -0.6377652 ,\n",
       "       -0.66772981, -0.66964798, -0.65171792, -0.6725885 , -0.64293744,\n",
       "       -0.64184422, -0.66204328, -0.67295773, -0.66758319, -0.67770333,\n",
       "       -0.66828206, -0.66382999, -0.67241765, -0.67278327, -0.6495704 ,\n",
       "       -0.65685865])"
      ]
     },
     "execution_count": 7,
     "metadata": {},
     "output_type": "execute_result"
    }
   ],
   "source": [
    "Sum_STD"
   ]
  },
  {
   "cell_type": "markdown",
   "metadata": {},
   "source": [
    "### Function"
   ]
  },
  {
   "cell_type": "markdown",
   "metadata": {},
   "source": [
    "### Main Code"
   ]
  },
  {
   "cell_type": "code",
   "execution_count": 8,
   "metadata": {},
   "outputs": [],
   "source": [
    "up = 10000"
   ]
  },
  {
   "cell_type": "code",
   "execution_count": 8,
   "metadata": {},
   "outputs": [
    {
     "data": {
      "image/png": "[encoded data removed]",
      "text/plain": [
       "<Figure size 432x288 with 1 Axes>"
      ]
     },
     "metadata": {
      "needs_background": "light"
     },
     "output_type": "display_data"
    }
   ],
   "source": [
    "plt.plot(Time,Sum_STD)\n",
    "#plt.plot(Time[100:up],Sum_STD100[100:up])\n",
    "plt.errorbar(Time,Sum_STD,yerr = Error_Bar_STD,  fmt='--')\n",
    "#plt.errorbar(Time[100:up],Sum_STD100[100:up],yerr = Error_Bar_STD100[100:up],  fmt='--')\n",
    "plt.xlabel('Life Time (Time/(N,2))')\n",
    "plt.ylabel('Energy ensenble')\n",
    "plt.title('128 Node ')\n",
    "#plt.legend('s')\n",
    "plt.savefig('(128Node)-LifTime.png',figsize = (12,7),dpi=300)"
   ]
  },
  {
   "cell_type": "code",
   "execution_count": 35,
   "metadata": {},
   "outputs": [
    {
     "data": {
      "text/plain": [
       "<ErrorbarContainer object of 3 artists>"
      ]
     },
     "execution_count": 35,
     "metadata": {},
     "output_type": "execute_result"
    },
    {
     "data": {
      "image/png": "[encoded data removed]",
      "text/plain": [
       "<Figure size 432x288 with 1 Axes>"
      ]
     },
     "metadata": {
      "needs_background": "light"
     },
     "output_type": "display_data"
    }
   ],
   "source": [
    "plt.plot(Sum_STD,Sum_STD100)\n",
    "plt.errorbar(Sum_STD,Sum_STD100,yerr = Error_Bar_STD,  fmt='--')\n",
    "#plt.plot(Time[100:up],Sum_STD[100:up])\n"
   ]
  },
  {
   "cell_type": "code",
   "execution_count": 14,
   "metadata": {},
   "outputs": [
    {
     "data": {
      "text/plain": [
       "84"
      ]
     },
     "execution_count": 14,
     "metadata": {},
     "output_type": "execute_result"
    }
   ],
   "source": [
    "len(Sum_STD100)"
   ]
  },
  {
   "cell_type": "code",
   "execution_count": null,
   "metadata": {},
   "outputs": [],
   "source": []
  }
 ],
 "metadata": {
  "kernelspec": {
   "display_name": "Python 3",
   "language": "python",
   "name": "python3"
  },
  "language_info": {
   "codemirror_mode": {
    "name": "ipython",
    "version": 3
   },
   "file_extension": ".py",
   "mimetype": "text/x-python",
   "name": "python",
   "nbconvert_exporter": "python",
   "pygments_lexer": "ipython3",
   "version": "3.6.7"
  }
 },
 "nbformat": 4,
 "nbformat_minor": 2
}
