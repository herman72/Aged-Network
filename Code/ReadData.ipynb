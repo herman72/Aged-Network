{
 "cells": [
  {
   "cell_type": "markdown",
   "metadata": {},
   "source": [
    "## Created By: Mohammad Sherafati(Herman), 3Feb 2019, m.sherafati7@gmail.com"
   ]
  },
  {
   "cell_type": "markdown",
   "metadata": {},
   "source": [
    "### Import Packages"
   ]
  },
  {
   "cell_type": "code",
   "execution_count": 3,
   "metadata": {},
   "outputs": [],
   "source": [
    "import numpy as np\n",
    "import matplotlib.pyplot as plt"
   ]
  },
  {
   "cell_type": "markdown",
   "metadata": {},
   "source": [
    "### Variable"
   ]
  },
  {
   "cell_type": "code",
   "execution_count": 5,
   "metadata": {},
   "outputs": [],
   "source": [
    "Time = np.loadtxt('/home/mohammad/Documents/Thesis/Aged-Network/Code/Output/LifeTime0.txt')"
   ]
  },
  {
   "cell_type": "code",
   "execution_count": 6,
   "metadata": {},
   "outputs": [
    {
     "data": {
      "text/plain": [
       "12.09475806451613"
      ]
     },
     "execution_count": 6,
     "metadata": {},
     "output_type": "execute_result"
    }
   ],
   "source": [
    "Time[-1]"
   ]
  },
  {
   "cell_type": "code",
   "execution_count": 7,
   "metadata": {},
   "outputs": [],
   "source": [
    "Sum_STD = 0\n",
    "List_Std_All = []\n",
    "for i in range(16):\n",
    "    File_STD = 0\n",
    "    File_STD = np.loadtxt('/home/mohammad/Documents/Thesis/Aged-Network/Code/Output/STD'+str(i)+str(0)+'.txt')\n",
    "    List_Std_All.append(File_STD)\n",
    "    Sum_STD = Sum_STD + File_STD\n",
    "Sum_STD = (Sum_STD/16)\n",
    "# STD1 = np.loadtxt('/home/mohammad/Documents/Thesis/Aged-Network/Code/Output/STD130.txt')\n",
    "# STD2 = np.loadtxt('/home/mohammad/Documents/Thesis/Aged-Network/Code/Output/STD140.txt')"
   ]
  },
  {
   "cell_type": "markdown",
   "metadata": {},
   "source": [
    "### Error Bar"
   ]
  },
  {
   "cell_type": "code",
   "execution_count": 8,
   "metadata": {},
   "outputs": [],
   "source": [
    "\n",
    "Error_Bar_STD = []\n",
    "for i in range(len(List_Std_All[1])):\n",
    "    List = []\n",
    "    \n",
    "    for j in range(16):\n",
    "        List.append(List_Std_All[j][i])\n",
    "    Error_Bar_STD.append((np.std(List)/len(List)))\n",
    "Error_Bar_STD = np.array(Error_Bar_STD)\n",
    "Error_Bar_STD = np.reshape(Error_Bar_STD,(len(Error_Bar_STD),1))"
   ]
  },
  {
   "cell_type": "code",
   "execution_count": 9,
   "metadata": {},
   "outputs": [],
   "source": [
    "#Error_Bar_STD[100:200]"
   ]
  },
  {
   "cell_type": "code",
   "execution_count": 13,
   "metadata": {},
   "outputs": [],
   "source": [
    "Sum_STD100 = 0\n",
    "List_Std100_All = []\n",
    "for i in range(16):\n",
    "    File_STD = 0\n",
    "    File_STD = np.loadtxt('/home/mohammad/Documents/Thesis/Aged-Network/Code/Output100/STD100'+str(i)+str(0)+'.txt')\n",
    "    List_Std100_All.append(File_STD)\n",
    "    Sum_STD100 = Sum_STD100 + File_STD\n",
    "Sum_STD100 = (Sum_STD100/16)"
   ]
  },
  {
   "cell_type": "code",
   "execution_count": 14,
   "metadata": {},
   "outputs": [],
   "source": [
    "\n",
    "Error_Bar_STD100 = []\n",
    "for i in range(len(List_Std100_All[1])):\n",
    "    List = []\n",
    "    \n",
    "    for j in range(16):\n",
    "        List.append(List_Std100_All[j][i])\n",
    "    Error_Bar_STD100.append((np.std(List)/len(List)))\n",
    "Error_Bar_STD100 = np.array(Error_Bar_STD100)\n",
    "Error_Bar_STD100 = np.reshape(Error_Bar_STD100,(len(Error_Bar_STD100),1))"
   ]
  },
  {
   "cell_type": "code",
   "execution_count": 15,
   "metadata": {},
   "outputs": [
    {
     "data": {
      "text/plain": [
       "array([0.01290764, 0.01297201, 0.01302712, ..., 0.30154588, 0.30154588,\n",
       "       0.30155594])"
      ]
     },
     "execution_count": 15,
     "metadata": {},
     "output_type": "execute_result"
    }
   ],
   "source": [
    "Sum_STD"
   ]
  },
  {
   "cell_type": "markdown",
   "metadata": {},
   "source": [
    "### Function"
   ]
  },
  {
   "cell_type": "markdown",
   "metadata": {},
   "source": [
    "### Main Code"
   ]
  },
  {
   "cell_type": "code",
   "execution_count": 16,
   "metadata": {},
   "outputs": [
    {
     "data": {
      "image/png": "[encoded data removed]",
      "text/plain": [
       "<Figure size 432x288 with 1 Axes>"
      ]
     },
     "metadata": {
      "needs_background": "light"
     },
     "output_type": "display_data"
    }
   ],
   "source": [
    "plt.plot(Time[100:300],Sum_STD[100:300])\n",
    "plt.plot(Time[100:300],Sum_STD100[100:300])\n",
    "plt.errorbar(Time[100:300],Sum_STD[100:300],yerr = Error_Bar_STD[100:300],  fmt='--')\n",
    "plt.errorbar(Time[100:300],Sum_STD100[100:300],yerr = Error_Bar_STD100[100:300],  fmt='--')\n",
    "plt.xlabel('Life Time (Time/(N,2))')\n",
    "plt.ylabel('Std Age ensenble')\n",
    "plt.title('32 Node ')\n",
    "#plt.legend('s')\n",
    "plt.savefig('100vsBalance(32Node)- Std Age.png',figsize = (12,7),dpi=300)"
   ]
  }
 ],
 "metadata": {
  "kernelspec": {
   "display_name": "Python 3",
   "language": "python",
   "name": "python3"
  },
  "language_info": {
   "codemirror_mode": {
    "name": "ipython",
    "version": 3
   },
   "file_extension": ".py",
   "mimetype": "text/x-python",
   "name": "python",
   "nbconvert_exporter": "python",
   "pygments_lexer": "ipython3",
   "version": "3.6.7"
  }
 },
 "nbformat": 4,
 "nbformat_minor": 2
}
