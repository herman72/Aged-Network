{
 "cells": [
  {
   "cell_type": "markdown",
   "metadata": {},
   "source": [
    "## Created By: Mohammad Sherafati(Herman), 3Feb 2019, m.sherafati7@gmail.com"
   ]
  },
  {
   "cell_type": "markdown",
   "metadata": {},
   "source": [
    "### Import Packages"
   ]
  },
  {
   "cell_type": "code",
   "execution_count": 1,
   "metadata": {},
   "outputs": [],
   "source": [
    "import numpy as np\n",
    "import matplotlib.pyplot as plt"
   ]
  },
  {
   "cell_type": "markdown",
   "metadata": {},
   "source": [
    "### Variable"
   ]
  },
  {
   "cell_type": "code",
   "execution_count": 19,
   "metadata": {},
   "outputs": [],
   "source": [
    "Time = np.loadtxt('/home/mohammad/Documents/Thesis/Aged-Network/Code/Output/T16.txt')"
   ]
  },
  {
   "cell_type": "code",
   "execution_count": 20,
   "metadata": {},
   "outputs": [
    {
     "data": {
      "text/plain": [
       "1.0"
      ]
     },
     "execution_count": 20,
     "metadata": {},
     "output_type": "execute_result"
    }
   ],
   "source": [
    "Time[-1]"
   ]
  },
  {
   "cell_type": "code",
   "execution_count": 21,
   "metadata": {},
   "outputs": [],
   "source": [
    "Sum_STD = 0\n",
    "List_Std_All = []\n",
    "for i in range(16):\n",
    "    File_STD = 0\n",
    "    File_STD = np.loadtxt('/home/mohammad/Documents/Thesis/Aged-Network/Code/Output/E16'+str(i)+'.txt')\n",
    "    List_Std_All.append(File_STD)\n",
    "    Sum_STD = Sum_STD + File_STD\n",
    "Sum_STD = (Sum_STD/16)\n",
    "# STD1 = np.loadtxt('/home/mohammad/Documents/Thesis/Aged-Network/Code/Output/STD130.txt')\n",
    "# STD2 = np.loadtxt('/home/mohammad/Documents/Thesis/Aged-Network/Code/Output/STD140.txt')"
   ]
  },
  {
   "cell_type": "markdown",
   "metadata": {},
   "source": [
    "### Error Bar"
   ]
  },
  {
   "cell_type": "code",
   "execution_count": 22,
   "metadata": {},
   "outputs": [],
   "source": [
    "\n",
    "Error_Bar_STD = []\n",
    "for i in range(len(List_Std_All[1])):\n",
    "    List = []\n",
    "    \n",
    "    for j in range(16):\n",
    "        List.append(List_Std_All[j][i])\n",
    "    Error_Bar_STD.append((np.std(List)/len(List)))\n",
    "Error_Bar_STD = np.array(Error_Bar_STD)\n",
    "Error_Bar_STD = np.reshape(Error_Bar_STD,(len(Error_Bar_STD),1))"
   ]
  },
  {
   "cell_type": "code",
   "execution_count": 6,
   "metadata": {},
   "outputs": [],
   "source": [
    "#Error_Bar_STD[100:200]"
   ]
  },
  {
   "cell_type": "code",
   "execution_count": 32,
   "metadata": {},
   "outputs": [],
   "source": [
    "Sum_STD100 = 0\n",
    "List_Std100_All = []\n",
    "for i in range(16):\n",
    "    File_STD = 0\n",
    "    File_STD = np.loadtxt('/home/mohammad/Documents/Thesis/Aged-Network/Code/Output100/STD100'+str(i)+str(64)+'.txt')\n",
    "    List_Std100_All.append(File_STD)\n",
    "    Sum_STD100 = Sum_STD100 + File_STD\n",
    "Sum_STD100 = (Sum_STD100/16)"
   ]
  },
  {
   "cell_type": "code",
   "execution_count": 33,
   "metadata": {},
   "outputs": [],
   "source": [
    "\n",
    "Error_Bar_STD100 = []\n",
    "for i in range(len(List_Std100_All[1])):\n",
    "    List = []\n",
    "    \n",
    "    for j in range(16):\n",
    "        List.append(List_Std100_All[j][i])\n",
    "    Error_Bar_STD100.append((np.std(List)/len(List)))\n",
    "Error_Bar_STD100 = np.array(Error_Bar_STD100)\n",
    "Error_Bar_STD100 = np.reshape(Error_Bar_STD100,(len(Error_Bar_STD100),1))"
   ]
  },
  {
   "cell_type": "code",
   "execution_count": 7,
   "metadata": {},
   "outputs": [
    {
     "data": {
      "text/plain": [
       "array([-0.82477009, -0.8170779 , -0.85221786, -0.87459732, -0.83329955,\n",
       "       -0.83734442, -0.87123214, -0.89117545, -0.88299174, -0.84784375,\n",
       "       -0.85622478, -0.87988795, -0.09513192, -0.84759821, -0.87401004,\n",
       "       -0.83447768, -0.85429018, -0.86362634, -0.82615045, -0.8166846 ,\n",
       "       -0.12639129, -0.13548259, -0.1428875 , -0.14946786, -0.15343594,\n",
       "       -0.16127746, -0.16584375, -0.17493326, -0.17617143, -0.19323304,\n",
       "       -0.18756228, -0.2083317 , -0.21550134, -0.21646897, -0.23136607,\n",
       "       -0.25113527, -0.28325982, -0.28161629, -0.35344844, -0.35729643,\n",
       "       -0.36535379, -0.38991138, -0.40603326, -0.43969866, -0.45015469,\n",
       "       -0.52550022, -0.54548884, -0.55070647, -0.63212701, -0.62796161,\n",
       "       -0.6141683 , -0.63123839, -0.66521585, -0.74944687, -0.70886339,\n",
       "       -0.69077031, -0.77269174, -0.81201228, -0.77701451, -0.78920625,\n",
       "       -0.79629196, -0.84682277, -0.83605737, -0.84826205, -0.79058237,\n",
       "       -0.76387299, -0.83336763, -0.8822317 , -0.84150201, -0.81178036,\n",
       "       -0.81234487, -0.83891696, -0.84401964, -0.85881362, -0.84543571,\n",
       "       -0.87427634, -0.82293214, -0.84825826, -0.82303281, -0.87571295,\n",
       "       -0.86550246, -0.87423884, -0.85014732, -0.84978795, -0.86136585,\n",
       "       -0.84755491, -0.86131205, -0.87738638, -0.83383705, -0.88136964,\n",
       "       -0.87157031, -0.84333884, -0.88000045, -0.88561518, -0.8782317 ,\n",
       "       -0.81702277, -0.83364754, -0.84509777, -0.85114241, -0.84478929,\n",
       "       -0.87383147])"
      ]
     },
     "execution_count": 7,
     "metadata": {},
     "output_type": "execute_result"
    }
   ],
   "source": [
    "Sum_STD"
   ]
  },
  {
   "cell_type": "markdown",
   "metadata": {},
   "source": [
    "### Function"
   ]
  },
  {
   "cell_type": "markdown",
   "metadata": {},
   "source": [
    "### Main Code"
   ]
  },
  {
   "cell_type": "code",
   "execution_count": 8,
   "metadata": {},
   "outputs": [],
   "source": [
    "up = 10000"
   ]
  },
  {
   "cell_type": "code",
   "execution_count": 23,
   "metadata": {},
   "outputs": [
    {
     "data": {
      "image/png": "[encoded data removed]",
      "text/plain": [
       "<Figure size 432x288 with 1 Axes>"
      ]
     },
     "metadata": {
      "needs_background": "light"
     },
     "output_type": "display_data"
    }
   ],
   "source": [
    "plt.plot(Time,Sum_STD)\n",
    "#plt.plot(Time[100:up],Sum_STD100[100:up])\n",
    "plt.errorbar(Time,Sum_STD,yerr = Error_Bar_STD,  fmt='--')\n",
    "#plt.errorbar(Time[100:up],Sum_STD100[100:up],yerr = Error_Bar_STD100[100:up],  fmt='--')\n",
    "plt.xlabel('Life Time (Time/(N,2))')\n",
    "plt.ylabel('Std Age ensenble')\n",
    "plt.title('128 Node ')\n",
    "#plt.legend('s')\n",
    "plt.savefig('2700vsBalance(128Node)- mean.png',figsize = (12,7),dpi=300)"
   ]
  },
  {
   "cell_type": "code",
   "execution_count": 35,
   "metadata": {},
   "outputs": [
    {
     "data": {
      "text/plain": [
       "<ErrorbarContainer object of 3 artists>"
      ]
     },
     "execution_count": 35,
     "metadata": {},
     "output_type": "execute_result"
    },
    {
     "data": {
      "image/png": "[encoded data removed]",
      "text/plain": [
       "<Figure size 432x288 with 1 Axes>"
      ]
     },
     "metadata": {
      "needs_background": "light"
     },
     "output_type": "display_data"
    }
   ],
   "source": [
    "plt.plot(Sum_STD,Sum_STD100)\n",
    "plt.errorbar(Sum_STD,Sum_STD100,yerr = Error_Bar_STD,  fmt='--')\n",
    "#plt.plot(Time[100:up],Sum_STD[100:up])\n"
   ]
  },
  {
   "cell_type": "code",
   "execution_count": 14,
   "metadata": {},
   "outputs": [
    {
     "data": {
      "text/plain": [
       "84"
      ]
     },
     "execution_count": 14,
     "metadata": {},
     "output_type": "execute_result"
    }
   ],
   "source": [
    "len(Sum_STD100)"
   ]
  },
  {
   "cell_type": "code",
   "execution_count": null,
   "metadata": {},
   "outputs": [],
   "source": []
  }
 ],
 "metadata": {
  "kernelspec": {
   "display_name": "Python 3",
   "language": "python",
   "name": "python3"
  },
  "language_info": {
   "codemirror_mode": {
    "name": "ipython",
    "version": 3
   },
   "file_extension": ".py",
   "mimetype": "text/x-python",
   "name": "python",
   "nbconvert_exporter": "python",
   "pygments_lexer": "ipython3",
   "version": "3.6.7"
  }
 },
 "nbformat": 4,
 "nbformat_minor": 2
}
