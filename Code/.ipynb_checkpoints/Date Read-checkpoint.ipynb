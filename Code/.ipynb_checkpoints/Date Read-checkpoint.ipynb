{
 "cells": [
  {
   "cell_type": "code",
   "execution_count": 27,
   "metadata": {},
   "outputs": [],
   "source": [
    "import os\n",
    "import time"
   ]
  },
  {
   "cell_type": "code",
   "execution_count": 6,
   "metadata": {},
   "outputs": [
    {
     "name": "stdin",
     "output_type": "stream",
     "text": [
      " /home/mohammad/Documents/Thesis\n"
     ]
    }
   ],
   "source": [
    "Adress = input()"
   ]
  },
  {
   "cell_type": "code",
   "execution_count": 7,
   "metadata": {},
   "outputs": [
    {
     "data": {
      "text/plain": [
       "'/home/mohammad/Documents/Thesis'"
      ]
     },
     "execution_count": 7,
     "metadata": {},
     "output_type": "execute_result"
    }
   ],
   "source": [
    "Adress"
   ]
  },
  {
   "cell_type": "code",
   "execution_count": 34,
   "metadata": {},
   "outputs": [],
   "source": [
    "List_name = os.listdir(Adress)"
   ]
  },
  {
   "cell_type": "code",
   "execution_count": 36,
   "metadata": {},
   "outputs": [
    {
     "name": "stdout",
     "output_type": "stream",
     "text": [
      "1557572305.2272272\n",
      "1548649298.1985552\n",
      "1557662484.6359801\n",
      "RDRMulti.py\n",
      "Mon Jan 28 07:51:38 2019\n"
     ]
    }
   ],
   "source": [
    "dir_entries = os.scandir(Adress)\n",
    "List_Time = []\n",
    "for entry in dir_entries:\n",
    "        info = entry.stat()\n",
    "        List_Time.append(info.st_mtime)\n",
    "        print(info.st_mtime)\n",
    "Young = List_Time.index(min(List_Time))\n",
    "print(List_name[Young])\n",
    "print(time.ctime(min(List_Time)))\n"
   ]
  },
  {
   "cell_type": "code",
   "execution_count": 26,
   "metadata": {},
   "outputs": [
    {
     "name": "stdout",
     "output_type": "stream",
     "text": [
      "1557572305.2272272\n",
      "1548649298.1985552\n",
      "1557662484.6359801\n"
     ]
    }
   ],
   "source": [
    "import os, os.path\n",
    "\n",
    "for filename in os.listdir(Adress):\n",
    "    print (os.path.getmtime(os.path.join(Adress, filename)))"
   ]
  }
 ],
 "metadata": {
  "kernelspec": {
   "display_name": "Python 3",
   "language": "python",
   "name": "python3"
  },
  "language_info": {
   "codemirror_mode": {
    "name": "ipython",
    "version": 3
   },
   "file_extension": ".py",
   "mimetype": "text/x-python",
   "name": "python",
   "nbconvert_exporter": "python",
   "pygments_lexer": "ipython3",
   "version": "3.6.7"
  }
 },
 "nbformat": 4,
 "nbformat_minor": 2
}
