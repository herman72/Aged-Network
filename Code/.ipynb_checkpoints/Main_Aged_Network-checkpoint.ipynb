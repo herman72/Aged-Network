{
 "cells": [
  {
   "cell_type": "markdown",
   "metadata": {},
   "source": [
    "## Created By: Mohammad Sherafati, 2Dec 2018, m.sherafati7@gmail.com"
   ]
  },
  {
   "cell_type": "markdown",
   "metadata": {},
   "source": [
    "### Import Packages"
   ]
  },
  {
   "cell_type": "code",
   "execution_count": 15,
   "metadata": {},
   "outputs": [],
   "source": [
    "from scipy.misc import comb\n",
    "import numpy as np\n",
    "import random as rnd\n",
    "import matplotlib.pyplot as plt\n",
    "import multiprocessing as mp\n",
    "import matplotlib.patches as mpatches"
   ]
  },
  {
   "cell_type": "markdown",
   "metadata": {},
   "source": [
    "### Variable"
   ]
  },
  {
   "cell_type": "code",
   "execution_count": 16,
   "metadata": {},
   "outputs": [],
   "source": [
    "Set_Age = 100\n",
    "ensemble = 1"
   ]
  },
  {
   "cell_type": "markdown",
   "metadata": {},
   "source": [
    "### Function"
   ]
  },
  {
   "cell_type": "code",
   "execution_count": 17,
   "metadata": {},
   "outputs": [],
   "source": [
    "\n",
    "def Calculate_Energy(i,j,Energy_Adj):\n",
    "\n",
    "    Sum = 0\n",
    "\n",
    "    for k in range(len(Energy_Adj)):\n",
    "\n",
    "        Sum += Energy_Adj[i,k] * Energy_Adj[j,k]\n",
    "\n",
    "    return (((-Sum) * Energy_Adj[i,j])/comb(len(Energy_Adj),3))\n",
    "\n",
    "\n",
    "\n",
    "\n",
    "\n",
    "def Cal_Ene_Tot(Energy_Adj,Node):\n",
    "    Ene_Tot = 0\n",
    "\n",
    "    for i in range(len(Energy_Adj)):\n",
    "        for j in range(len(Energy_Adj)):\n",
    "            Ene_Tot += Calculate_Energy(i, j, Energy_Adj)\n",
    "\n",
    "    return (Ene_Tot) /6"
   ]
  },
  {
   "cell_type": "markdown",
   "metadata": {},
   "source": [
    "### Main Code"
   ]
  },
  {
   "cell_type": "code",
   "execution_count": 18,
   "metadata": {},
   "outputs": [],
   "source": [
    "def Mainfunc(Node,age,iterate,ensemble):\n",
    "\n",
    "    Node = Node\n",
    "    Tot_Time = np.zeros((1, 20000))\n",
    "    Tot_Ene = np.zeros((1, 20000))\n",
    "    ensemble = ensemble\n",
    "    age = age\n",
    "    iterate = iterate\n",
    "    Aging = np.ones((Node,Node),dtype=int)\n",
    "    Age_Imshow = []\n",
    "    Age_Counter = 1\n",
    "\n",
    "    '''Main'''\n",
    "\n",
    "\n",
    "    #ensumble\n",
    "    for ens in range(ensemble):\n",
    "\n",
    "\n",
    "        T = 0                                                 #Step\n",
    "        Time = []                                             #List Step\n",
    "        Energy_Adj = np.zeros((Node,Node),dtype=int)          #Energy Matrix(staet random)\n",
    "        Mat_Energy = []                                       #Save Energy in every step\n",
    "        Age_adj = np.zeros((Node, Node), dtype=int)           #Age Matrix\n",
    "        Eold = 0\n",
    "\n",
    "        \n",
    "        #add Gussian age to nodes\n",
    "        Random_gaussian = np.random.normal(0,100,(Node,Node))\n",
    "        Age_gaussian = np.absolute(Random_gaussian - np.mean(Random_gaussian))\n",
    "        \n",
    "        \n",
    "        #Create Random First State\n",
    "        for i in range(len(Energy_Adj)):\n",
    "            j = i\n",
    "            for j in range(len(Energy_Adj)):\n",
    "                Energy_Adj[i, j] = rnd.choice([-1, 1])\n",
    "                Energy_Adj[j, i] = Energy_Adj[i, j]\n",
    "                Age_adj[i, j] =    Age_gaussian[j]                 #rnd.randint(0,age)\n",
    "                Age_adj[j, i] = Age_adj[i, j]\n",
    "\n",
    "\n",
    "\n",
    "        #Zero Diognal\n",
    "\n",
    "        np.fill_diagonal(Energy_Adj,0)\n",
    "        np.fill_diagonal(Age_adj,0)\n",
    "        np.fill_diagonal(Aging, 0)\n",
    "\n",
    "        # for i in range(len(Energy_Adj)):\n",
    "        #     Energy_Adj[i, i] = 0\n",
    "        #     Age_adj[i, i] = 0\n",
    "        #     Aging[i,i] = 0\n",
    "\n",
    "\n",
    "\n",
    "        Eold = Cal_Ene_Tot(Energy_Adj, Node)\n",
    "        Copy_Ene_mat = np.copy(Energy_Adj)\n",
    "\n",
    "\n",
    "\n",
    "    #def func(Node,iterate,Energy_Adj):\n",
    "\n",
    "\n",
    "\n",
    "\n",
    "\n",
    "        for t in range(iterate):\n",
    "\n",
    "            Age_network =0\n",
    "            dE = 0\n",
    "            Age_network = Age_adj.max()                       #Find Oldest link\n",
    "\n",
    "\n",
    "            #Change old links with random links\n",
    "            if Age_network == age:\n",
    "                dE = 0\n",
    "                for i in range(Node):\n",
    "                    for j in range(Node):\n",
    "                        p = 0\n",
    "                        p = rnd.choice([-1, 1])\n",
    "\n",
    "                        if Age_adj[i, j] == age:\n",
    "                            Energy_Adj[i, j] = p * Energy_Adj[i, j]\n",
    "                            Energy_Adj[j, i] = p * Energy_Adj[j, i]\n",
    "                            Copy_Ene_mat[i, j] = Energy_Adj[i, j]\n",
    "                            Copy_Ene_mat[j, i] = Energy_Adj[j, i]\n",
    "\n",
    "                            Age_adj[i, j] = 0\n",
    "                            Age_adj[j, i] = 0\n",
    "\n",
    "                            newE = Calculate_Energy(i, j, Energy_Adj)\n",
    "                            oldE = p * Calculate_Energy(i, j, Energy_Adj)\n",
    "                            dE += newE - oldE\n",
    "\n",
    "                Eold += dE\n",
    "                T += 1\n",
    "                Time.append(T)\n",
    "                Mat_Energy.append(Eold)\n",
    "\n",
    "\n",
    "\n",
    "\n",
    "            #Change links with energy properties\n",
    "\n",
    "            i = rnd.randint(0, Node-1)\n",
    "            j = rnd.randint(0, Node-1)\n",
    "\n",
    "            Copy_Ene_mat[i, j] = -Copy_Ene_mat[i, j]\n",
    "            Copy_Ene_mat[j, i] = -Copy_Ene_mat[j, i]\n",
    "\n",
    "            dE = 0\n",
    "            dE = -2 * Calculate_Energy(i, j, Copy_Ene_mat)\n",
    "            if 0 < dE:\n",
    "\n",
    "                Energy_Adj[i, j] = -Energy_Adj[i, j]\n",
    "                Energy_Adj[j, i] = -Energy_Adj[j, i]\n",
    "\n",
    "                Eold = Eold - dE\n",
    "\n",
    "                Mat_Energy.append(Eold)\n",
    "                T +=1\n",
    "                Time.append(T)\n",
    "\n",
    "                Age_adj = Age_adj + Aging\n",
    "                Age_adj[i, j] = 0\n",
    "                Age_adj[j, i] = 0\n",
    "\n",
    "            else:\n",
    "                Copy_Ene_mat[i, j] = Energy_Adj[i, j]\n",
    "                Copy_Ene_mat[j, i] = Energy_Adj[j, i]\n",
    "                T += 1\n",
    "                Time.append(T)\n",
    "                Mat_Energy.append(Eold)\n",
    "\n",
    "            if Age_adj.max() == 300 * Age_Counter:\n",
    "                Age_Imshow.append(Age_adj)\n",
    "                Age_Counter += 1\n",
    "\n",
    "    return Time, Mat_Energy, Age_adj, Age_Imshow\n"
   ]
  },
  {
   "cell_type": "code",
   "execution_count": 19,
   "metadata": {},
   "outputs": [
    {
     "data": {
      "text/plain": [
       "array([[  1.63358318e-01,   7.73711677e-01,   2.65412499e-01,\n",
       "         -8.30325931e-02,  -1.22429135e+00,   7.12282488e-01,\n",
       "         -6.87149749e-04,   6.26316989e-01,  -6.52513889e-01,\n",
       "         -6.62872050e-01,  -1.44765198e+00,  -9.15158816e-01,\n",
       "         -5.27252260e-02,   1.06831417e+00,   1.85712895e+00,\n",
       "          7.22211612e-02,   5.30233415e-02,  -1.50881818e+00,\n",
       "          1.54832162e+00,  -5.95208535e-01],\n",
       "       [ -3.48700311e-01,  -3.55836277e-01,  -5.65825027e-01,\n",
       "          3.17962353e-01,   2.42488041e-01,   2.43998376e-01,\n",
       "         -2.38038830e+00,  -2.05357302e+00,  -1.72669809e+00,\n",
       "         -7.23482447e-01,  -2.54466470e-01,  -1.46370536e+00,\n",
       "         -6.53440902e-01,   5.70119582e-01,  -1.21518695e+00,\n",
       "         -1.28633775e+00,  -3.75412314e-01,   2.16900528e-01,\n",
       "          3.28068863e-01,   1.42683849e+00],\n",
       "       [ -5.92160583e-01,  -3.48914719e-01,  -2.84721469e-02,\n",
       "          3.48386990e-01,  -1.17837471e+00,  -3.87652633e-01,\n",
       "         -6.95665649e-01,   2.93863801e-01,   2.04277392e+00,\n",
       "         -6.41669032e-01,   3.76866428e-01,   1.30331718e+00,\n",
       "          1.44999868e+00,  -7.44830708e-02,  -2.48716959e-01,\n",
       "          9.54528645e-02,   8.51019439e-01,  -1.50494718e+00,\n",
       "          1.23056504e+00,   7.24225810e-01],\n",
       "       [ -4.82321347e-01,   2.79584348e-01,  -5.72532492e-01,\n",
       "         -8.93418244e-01,   6.31829473e-01,   9.53839737e-01,\n",
       "         -1.57367803e+00,   5.53895067e-01,   1.76675463e+00,\n",
       "         -1.55302151e+00,  -1.14744772e-01,   1.38342060e+00,\n",
       "          4.84969390e-01,  -1.34067355e+00,  -5.97649940e-01,\n",
       "          1.26218939e+00,   8.56643522e-01,  -6.80734435e-01,\n",
       "         -1.02330450e+00,  -2.11114231e+00],\n",
       "       [  1.07331914e+00,  -1.48219858e+00,  -1.58674174e+00,\n",
       "         -1.60531359e-01,   5.58173937e-01,  -1.91117669e-01,\n",
       "          1.10577510e+00,   1.40253851e-01,   1.08133599e+00,\n",
       "         -4.01704623e-01,   7.58772789e-01,   9.49743893e-02,\n",
       "          9.40397384e-01,   7.54683436e-01,   5.97321150e-01,\n",
       "          2.82905846e-01,  -1.92704953e+00,   3.79429816e-02,\n",
       "          1.40005777e+00,   7.81085208e-01],\n",
       "       [  2.24825592e-01,  -2.83846398e-01,   7.75949633e-01,\n",
       "          5.49285318e-01,   2.33384816e-01,  -9.82923442e-01,\n",
       "          1.06206440e-01,  -2.80605026e-01,  -1.65617783e+00,\n",
       "         -8.90784302e-01,   1.38261882e-01,   9.19841403e-02,\n",
       "         -1.99396120e+00,  -6.75674494e-01,   5.55670643e-01,\n",
       "         -6.30613235e-01,   5.38051200e-01,  -7.92174067e-01,\n",
       "          1.02168837e+00,  -2.64414403e-01],\n",
       "       [ -1.12657297e+00,   1.53416811e+00,   2.06233013e-01,\n",
       "          6.24260985e-01,  -9.98129892e-01,  -1.10001506e+00,\n",
       "         -8.30604880e-01,   1.27609827e+00,   8.25683304e-01,\n",
       "          3.10065894e-01,   6.33740824e-01,  -1.37026876e+00,\n",
       "         -6.67953448e-01,   9.73046140e-01,   1.12929051e-01,\n",
       "         -4.49330148e-01,  -1.08390456e+00,  -8.29613018e-01,\n",
       "         -2.03252972e+00,   1.56058420e+00],\n",
       "       [ -6.26344250e-01,  -9.18502436e-01,  -1.80035534e+00,\n",
       "          4.51198899e-03,   6.74209660e-01,  -2.39542965e+00,\n",
       "          4.86897114e-01,  -3.10119458e-01,  -4.02329992e-01,\n",
       "         -1.65550243e+00,  -1.29550735e+00,  -6.23343664e-02,\n",
       "         -1.16565292e-01,   3.42748749e-01,  -2.44329128e+00,\n",
       "          5.11590992e-01,   9.54002910e-01,   2.82637894e-01,\n",
       "         -1.32014645e+00,   1.52640401e+00],\n",
       "       [  8.89345588e-01,   1.22370947e-01,   6.36142834e-01,\n",
       "         -1.04595462e+00,  -5.81369313e-01,   7.99651221e-01,\n",
       "         -1.84483247e+00,   6.31121205e-01,   5.77204323e-01,\n",
       "          1.99236538e+00,   1.40165523e+00,  -8.65791788e-01,\n",
       "         -4.69345785e-01,   7.76003194e-01,   1.42486382e+00,\n",
       "          2.77287626e-01,   3.35641238e-01,   2.46945606e-01,\n",
       "         -1.30398163e+00,   6.26305729e-01],\n",
       "       [  5.64102479e-01,   1.08387438e+00,  -3.10697883e-01,\n",
       "          1.40742303e-01,  -1.66173776e+00,   9.80106055e-01,\n",
       "         -4.30410332e-01,  -1.65964061e+00,   2.96634778e-01,\n",
       "         -1.15935879e+00,  -1.97279749e+00,   3.14008292e-01,\n",
       "          1.87605648e-01,  -1.16227882e+00,  -1.42286864e+00,\n",
       "         -7.32504186e-01,   1.46488664e+00,   8.48062664e-01,\n",
       "          2.48504309e-01,  -7.69727082e-01],\n",
       "       [  1.93122778e+00,   1.95361653e-01,  -6.19588539e-02,\n",
       "         -4.74514583e-01,  -1.86450455e-01,   3.07220303e-01,\n",
       "         -6.81015755e-01,   2.31849028e+00,   6.11612769e-02,\n",
       "         -3.42176230e-01,  -6.92131271e-01,   2.16548462e+00,\n",
       "         -4.77126299e-01,   1.95049895e+00,   2.04438989e-01,\n",
       "          5.76900942e-01,   3.62493402e-01,   3.87901451e-01,\n",
       "          8.13126739e-01,  -1.61515368e+00],\n",
       "       [ -3.21918341e-01,  -4.56826697e-01,  -2.26695209e-01,\n",
       "         -6.42999263e-01,  -6.62807486e-01,  -6.30870605e-01,\n",
       "         -8.57678139e-01,  -9.43132348e-01,  -1.70974665e+00,\n",
       "          8.66792341e-01,  -4.14797833e-01,   1.96267944e-01,\n",
       "          9.00010383e-01,   8.24134790e-01,   1.98288668e-01,\n",
       "          1.19842825e+00,  -9.38842288e-01,   1.59005688e+00,\n",
       "          4.12142526e-01,   6.48178596e-01],\n",
       "       [  5.14868735e-01,  -7.26496208e-01,  -2.37569919e-01,\n",
       "          2.02488594e+00,   7.40747406e-01,  -4.61168665e-01,\n",
       "         -2.19596851e-02,  -1.24349536e+00,   1.67786040e-01,\n",
       "         -5.49190959e-01,  -8.53457113e-01,  -3.31523920e-01,\n",
       "          8.70289775e-02,  -2.42260457e-01,   2.50806656e-01,\n",
       "         -7.60585092e-01,   8.18447401e-01,  -1.55280211e+00,\n",
       "          5.95245098e-01,   6.34523498e-01],\n",
       "       [ -2.26532572e-01,  -2.01610922e-01,  -4.03034756e-01,\n",
       "          8.11957824e-01,  -1.54845804e+00,   9.90202233e-01,\n",
       "         -5.93848950e-01,  -6.60634934e-01,  -3.83369264e-01,\n",
       "         -1.65486590e-01,   1.50821148e-01,   2.82912851e-02,\n",
       "         -5.39865070e-01,  -8.28022108e-01,   1.66397552e-01,\n",
       "          5.72931765e-01,  -2.25913773e-01,  -8.49536084e-01,\n",
       "         -1.10108096e+00,   3.65912015e-01],\n",
       "       [  1.11779407e-01,   1.66130653e+00,   8.81714796e-01,\n",
       "          1.92426686e-02,  -9.76726072e-01,  -6.05390329e-01,\n",
       "         -1.11106442e+00,  -6.73715210e-01,  -1.22813554e+00,\n",
       "          4.10412509e-01,   1.75737510e+00,   7.74613438e-01,\n",
       "         -2.61385920e+00,   2.10212003e-01,  -1.40301114e+00,\n",
       "         -4.27889361e-01,   3.61084071e-01,  -8.07323502e-01,\n",
       "          2.21268743e+00,   8.04509667e-01],\n",
       "       [ -1.27388832e+00,   2.03279695e+00,   1.15129078e+00,\n",
       "          1.18885838e+00,   9.52911181e-02,  -6.18391688e-01,\n",
       "          5.17525711e-01,  -1.13218950e+00,   3.60059287e-02,\n",
       "          5.67342833e-01,   2.05177804e-01,   1.87145813e-01,\n",
       "          9.25310484e-01,   1.65055831e+00,   3.22610299e-01,\n",
       "          9.93883486e-01,   1.28252450e-01,   1.83310297e-01,\n",
       "         -1.48038370e+00,   3.55852021e-02],\n",
       "       [  1.03704355e+00,   7.71949045e-01,   5.83671683e-01,\n",
       "         -3.90344511e-01,   7.26000239e-01,   7.04677854e-01,\n",
       "          1.56943697e+00,   3.52068123e-02,  -1.38949578e+00,\n",
       "         -9.62712718e-01,   8.93163483e-01,   5.61367394e-01,\n",
       "         -1.22741571e+00,  -9.04562029e-01,   7.39389495e-01,\n",
       "         -8.60950507e-01,   7.36720907e-01,  -6.24210622e-01,\n",
       "         -2.35150769e+00,   7.63870485e-01],\n",
       "       [ -4.60954015e-01,   4.67220791e-01,   6.14940055e-02,\n",
       "         -4.18936904e-01,   2.80831979e-01,   2.72395271e-01,\n",
       "          4.81898687e-01,   8.82761811e-02,  -1.78381433e+00,\n",
       "          1.70009085e+00,   1.24703552e+00,  -8.27703162e-01,\n",
       "         -1.50356220e+00,  -3.52219243e-01,   5.53208118e-01,\n",
       "         -2.38567174e+00,   3.10573250e-02,  -6.23594396e-01,\n",
       "          6.70195735e-02,   1.59850796e+00],\n",
       "       [  7.90473390e-01,   3.36950732e-01,   3.51205142e-01,\n",
       "         -1.30225407e+00,   3.08701956e-01,   3.30573268e-01,\n",
       "          1.08190017e-01,  -9.76031786e-02,  -1.62277568e-01,\n",
       "          2.15725339e+00,  -4.96421464e-02,  -4.04954159e-01,\n",
       "          7.17830242e-01,   7.07554787e-01,   1.53500389e+00,\n",
       "          5.36407034e-01,   9.69179230e-01,   1.47581116e+00,\n",
       "          2.05726545e+00,   4.71673718e-01],\n",
       "       [ -2.89043299e-01,   1.72504910e+00,   3.72711471e-02,\n",
       "          3.78243800e-01,  -2.80909593e-01,  -6.14268497e-01,\n",
       "          1.70210235e-01,  -2.66115775e-01,  -2.98796391e-01,\n",
       "          1.00276015e+00,  -1.72890315e-02,   4.19576209e-01,\n",
       "         -3.28828754e-01,   1.36527271e+00,   3.52627727e-01,\n",
       "          4.02560517e-01,   3.40098798e-02,  -3.45981503e-01,\n",
       "          8.16873945e-01,   1.65704987e-01]])"
      ]
     },
     "execution_count": 19,
     "metadata": {},
     "output_type": "execute_result"
    }
   ],
   "source": [
    "np.random.normal(0,1,(20,20))"
   ]
  },
  {
   "cell_type": "code",
   "execution_count": 44,
   "metadata": {},
   "outputs": [],
   "source": [
    "Z = np.random.normal(0,1,(20,20))"
   ]
  },
  {
   "cell_type": "code",
   "execution_count": 41,
   "metadata": {},
   "outputs": [],
   "source": [
    "Fun_Test = Mainfunc(32,100000,5000,1)"
   ]
  },
  {
   "cell_type": "code",
   "execution_count": 46,
   "metadata": {},
   "outputs": [
    {
     "data": {
      "text/plain": [
       "98.221555965296616"
      ]
     },
     "execution_count": 46,
     "metadata": {},
     "output_type": "execute_result"
    }
   ],
   "source": [
    "np.std(Fun_Test[2])"
   ]
  },
  {
   "cell_type": "code",
   "execution_count": 43,
   "metadata": {},
   "outputs": [
    {
     "data": {
      "text/plain": [
       "[<matplotlib.lines.Line2D at 0x7fb608a602e8>]"
      ]
     },
     "execution_count": 43,
     "metadata": {},
     "output_type": "execute_result"
    },
    {
     "data": {
      "image/png": "[encoded data removed]",
      "text/plain": [
       "<Figure size 432x288 with 1 Axes>"
      ]
     },
     "metadata": {},
     "output_type": "display_data"
    }
   ],
   "source": [
    "plt.plot(Fun_Test[0],Fun_Test[1])"
   ]
  },
  {
   "cell_type": "code",
   "execution_count": 45,
   "metadata": {},
   "outputs": [
    {
     "data": {
      "text/plain": [
       "array([[-1.01637953, -1.41197947,  1.0427057 ,  0.11461272, -0.42023164,\n",
       "         0.95866911,  0.23881766,  0.37982672,  0.29376092,  0.40685654,\n",
       "        -0.00544172, -1.62400843, -0.0533118 ,  0.30117734,  0.46591389,\n",
       "        -1.08862356, -0.36128665, -0.38086837, -0.39393407,  0.64725134],\n",
       "       [-0.00337128, -1.20235467,  0.2535682 ,  0.86579578, -1.83806978,\n",
       "        -2.21586196, -0.80898432,  0.27645626, -2.40664814,  0.01821189,\n",
       "         1.41101287,  0.75110246, -0.6472705 ,  1.05464878,  0.52112008,\n",
       "        -0.71608755, -0.69600832, -0.6205964 ,  1.65849277, -2.28984926],\n",
       "       [-0.41704954,  0.15107433, -0.73043328, -0.54568839,  1.05370135,\n",
       "        -0.95315669,  1.0434288 , -0.26826934,  0.8760429 ,  2.18499598,\n",
       "         1.77667784, -1.87675283, -1.68250346, -1.14449182,  1.52887038,\n",
       "         0.79982084, -0.66124208,  0.1503124 , -1.27903618, -0.47556445],\n",
       "       [ 0.87956113,  0.85176866,  0.82732829, -0.97251816, -1.02763213,\n",
       "        -1.0910023 , -0.79883658, -0.19650518, -1.28077357, -0.11047138,\n",
       "        -1.30236081,  1.47031334,  0.15520287, -0.85571201, -0.24870541,\n",
       "        -0.55260059,  0.74230696, -0.98570337, -1.53570707, -0.17717234],\n",
       "       [-0.51939262, -0.39219903,  0.00671563, -0.54595902,  0.04233641,\n",
       "        -0.15935233, -0.4550661 ,  1.77632277, -1.72542557,  0.81992928,\n",
       "         2.47990986,  1.02276851, -0.65400667,  0.35215787, -0.20286576,\n",
       "         0.80194192,  1.20746934, -0.00399204, -0.33032702,  0.75986381],\n",
       "       [-1.15095964, -0.95914306, -0.04469101,  1.13075492,  2.00675326,\n",
       "         0.39954481,  0.68651663,  0.3502508 , -1.04985792,  1.26213812,\n",
       "         1.56475947,  0.75576873,  1.86012119,  0.31730027, -0.52256469,\n",
       "         1.60449791,  0.14868495,  0.56087478, -1.17800509,  1.44370261],\n",
       "       [-0.28549066,  0.25481963,  1.58290891,  1.27194355,  0.73952715,\n",
       "         2.56242492, -0.39032366,  1.7382986 ,  0.21481472,  0.09259323,\n",
       "        -0.51781274,  1.63300462,  0.28913065,  1.98673658,  1.48648702,\n",
       "        -0.155436  , -1.10835979, -0.98846256,  0.4095117 ,  0.1086912 ],\n",
       "       [ 0.35163575,  0.18584243, -0.94251303,  0.67636331,  1.17291428,\n",
       "         0.05029599,  1.63433307,  1.16830844, -0.69804328,  0.59817299,\n",
       "         0.29880014, -0.26007337,  0.73501113,  0.73064739, -0.67009453,\n",
       "         0.67361558, -0.82130594, -0.33175827, -2.61176208,  1.13820192],\n",
       "       [ 0.06320305,  0.27565913,  0.62169666, -2.53570834,  0.14032618,\n",
       "         0.85023305,  1.53408383, -0.96303015, -0.70642679, -0.11515021,\n",
       "        -0.94180778,  0.92816386,  1.03793413, -0.65034314, -2.1974418 ,\n",
       "        -1.32422055, -1.3228086 , -0.86813582, -0.33031645, -1.27257189],\n",
       "       [ 0.07911941, -0.73757243, -0.3980891 ,  0.92675659,  0.4079994 ,\n",
       "         1.28124758, -0.38223487,  0.29244164,  0.48313365,  0.60565312,\n",
       "         1.50050229,  0.59084209,  1.62478724,  1.10588927, -1.35766679,\n",
       "        -0.53304366,  1.36991733,  1.25256374,  0.58365374, -1.02477674],\n",
       "       [-0.58107903, -1.24232111, -0.05259297, -0.46085433, -0.17376154,\n",
       "         0.85696608,  1.17562213,  1.67191985, -0.64499662, -0.36405142,\n",
       "        -0.6871251 , -0.20598759, -0.88225632,  0.08406764, -0.10791945,\n",
       "         0.35103866, -1.30210429,  1.01000813,  0.26497761,  1.35596735],\n",
       "       [ 0.55178471,  0.8613575 , -0.09330517, -0.98327783, -0.05270002,\n",
       "        -0.59604313, -1.10785641, -1.70623627, -1.50516833,  0.57529957,\n",
       "        -0.60398137,  0.77784639,  2.36941764,  0.68557237,  0.08798311,\n",
       "         0.56336278, -0.42708393, -0.32749784, -1.1131045 ,  0.1860334 ],\n",
       "       [-0.47145133, -1.32859474, -1.37007543, -0.62404738,  0.38897363,\n",
       "        -0.45570759, -0.51101054, -2.35190642, -0.39364509,  0.28816348,\n",
       "         0.45317667, -1.89413522, -0.04481974,  0.97264788,  0.59389894,\n",
       "         1.39711066,  0.51164917,  0.84296867,  1.04192905,  1.24671547],\n",
       "       [ 0.58652814, -0.11170505,  2.07198622,  1.93709325,  0.14335112,\n",
       "        -1.91655426, -0.68101304, -0.89896261,  0.51804271, -0.51946881,\n",
       "         0.18188327,  0.99126326, -1.11162286, -0.26269314, -1.49622657,\n",
       "        -0.08881299,  0.31465727,  1.09254219,  0.96149112, -0.84705808],\n",
       "       [ 0.40036488,  0.66722629, -0.06846893, -0.84546055, -0.70042355,\n",
       "         0.31831497, -0.12761925, -0.01241333,  1.7424817 , -1.71301606,\n",
       "         0.19822081,  0.22127523,  1.17114654, -0.3098592 , -0.96222005,\n",
       "         1.03194926,  0.46298141, -0.05741843, -0.22268436, -0.71315501],\n",
       "       [-0.21556293, -0.74509705, -0.31599134, -0.27799102, -0.6235576 ,\n",
       "         1.09083799, -0.1450548 , -0.57736976, -0.14540534, -0.61056369,\n",
       "        -0.82658269, -0.01044193, -2.20420297,  0.32127956,  0.94935795,\n",
       "         0.48444595, -0.54638779, -0.70516677, -0.8595483 , -1.47432469],\n",
       "       [ 0.42758749, -1.76967448, -0.19492206,  0.44013489,  1.19574486,\n",
       "        -0.75389796,  0.32905031,  1.14479497, -0.06329707,  0.88981563,\n",
       "         0.49425234,  1.34333609, -0.50050114,  2.05215777,  0.62948789,\n",
       "         1.02849702, -0.97852891, -0.43963981,  0.70973765, -0.8633481 ],\n",
       "       [-0.76715777, -1.44354665,  0.22049199,  1.14317294, -0.0382264 ,\n",
       "         1.28285281, -0.2881344 , -0.55002563, -0.67362871,  1.08919496,\n",
       "         0.96323316,  1.44406581, -0.68114367, -0.19535121, -1.39585275,\n",
       "         0.84662594, -1.03072383,  1.41358205, -1.17263122,  0.23304925],\n",
       "       [-0.91154696, -1.09427686, -0.0855236 ,  0.90876291, -0.28231967,\n",
       "        -0.23774216,  0.80232706,  1.25903498,  0.42789978, -1.08181397,\n",
       "         0.48121134, -2.17670042,  1.25763733,  1.17027855, -1.37666772,\n",
       "         1.44187156,  0.85705773, -0.52979444, -0.78338504,  0.86002335],\n",
       "       [-0.49451978,  1.07729433, -0.54838885, -2.48724764,  1.64213071,\n",
       "         0.5126412 ,  0.28327412,  1.47709349, -0.88586925,  0.01020061,\n",
       "        -1.15545121, -0.41200573,  1.00514289,  0.97140765,  0.34432926,\n",
       "        -0.25389703,  0.10247046, -1.00565965, -1.41364602,  0.6417951 ]])"
      ]
     },
     "execution_count": 45,
     "metadata": {},
     "output_type": "execute_result"
    }
   ],
   "source": [
    "Z"
   ]
  },
  {
   "cell_type": "code",
   "execution_count": 51,
   "metadata": {},
   "outputs": [
    {
     "data": {
      "text/plain": [
       "0.14751738972131384"
      ]
     },
     "execution_count": 51,
     "metadata": {},
     "output_type": "execute_result"
    }
   ],
   "source": [
    "np.mean(np.random.normal(0,100,20*20))"
   ]
  },
  {
   "cell_type": "code",
   "execution_count": 56,
   "metadata": {},
   "outputs": [],
   "source": [
    "s = np.absolute(np.random.normal(0,100,20*20))"
   ]
  },
  {
   "cell_type": "code",
   "execution_count": 55,
   "metadata": {},
   "outputs": [
    {
     "data": {
      "text/plain": [
       "59.749782908460659"
      ]
     },
     "execution_count": 55,
     "metadata": {},
     "output_type": "execute_result"
    }
   ],
   "source": [
    "np.std(s)"
   ]
  },
  {
   "cell_type": "code",
   "execution_count": 67,
   "metadata": {},
   "outputs": [],
   "source": [
    "Age_gaussian = np.random.normal(0,100,20*20)\n"
   ]
  },
  {
   "cell_type": "code",
   "execution_count": 69,
   "metadata": {},
   "outputs": [
    {
     "data": {
      "text/plain": [
       "96.358825786394362"
      ]
     },
     "execution_count": 69,
     "metadata": {},
     "output_type": "execute_result"
    }
   ],
   "source": [
    "np.std(Age_gaussian - np.mean(Age_gaussian))"
   ]
  },
  {
   "cell_type": "code",
   "execution_count": 80,
   "metadata": {},
   "outputs": [],
   "source": [
    "Random_gaussian = np.random.normal(0,100,(20,20))\n",
    "Age = Random_gaussian - np.mean(Random_gaussian)"
   ]
  },
  {
   "cell_type": "code",
   "execution_count": 82,
   "metadata": {},
   "outputs": [
    {
     "data": {
      "text/plain": [
       "104.80898209172784"
      ]
     },
     "execution_count": 82,
     "metadata": {},
     "output_type": "execute_result"
    }
   ],
   "source": [
    "np.std(Age)"
   ]
  },
  {
   "cell_type": "code",
   "execution_count": 83,
   "metadata": {},
   "outputs": [
    {
     "data": {
      "text/plain": [
       "array([[ 144.65706892,  -83.66046373,  -82.71182267, -117.4530197 ,\n",
       "         138.20438743, -127.73393883,  -10.70202463, -150.64158554,\n",
       "         -44.6446903 , -121.4131776 ,   46.54806265,   74.20559605,\n",
       "          -8.87404051,   56.07929646,   47.70928649, -147.31166387,\n",
       "         171.05932066, -161.54643706,   66.30646026,  -42.55310756],\n",
       "       [ -19.33115363,  148.66031412,   31.89845103,   95.09347807,\n",
       "          29.82567822,  -73.97350841, -109.2611299 ,  -26.40955685,\n",
       "         -86.90871713,  -20.08620523,   44.52227113,   47.54819938,\n",
       "         -70.39107973,  111.76682154,   18.40781674, -124.35533033,\n",
       "         105.86291312, -143.22085676,  -32.21043783,  -29.46338835],\n",
       "       [   0.75153355,  -40.65236479,   19.555416  ,  148.55081292,\n",
       "        -163.21074092,   24.86628351,  -13.36758334,  -44.00264816,\n",
       "          51.87246092,  109.73179008,   55.83348465,   31.38237374,\n",
       "         -54.94411004,  174.78908332,  -33.57091912,  -41.23182939,\n",
       "         177.4928137 ,  137.00193759, -168.34066246, -221.84799027],\n",
       "       [ -24.53727597,  -82.15526215,  102.6318152 ,   -2.63110939,\n",
       "        -140.69654992,   -6.93319634,  -24.37135176,  114.93414146,\n",
       "          33.33788578,  -34.48802499,   42.62264844,  -29.40499097,\n",
       "          22.70554565,   65.13705151, -112.89015473,  -44.81910735,\n",
       "        -104.70781241,  -78.52415213,  -95.67597666,   57.59087124],\n",
       "       [ -44.30885368,  -74.9851439 ,    7.82832203,  -87.34724276,\n",
       "         -82.20929901,   26.71452138, -109.82952139,   10.59306975,\n",
       "          28.2347422 ,    6.84515328,  148.09284341,   12.64698863,\n",
       "           6.53618288,   80.57756489,   66.3581488 ,  -95.42904094,\n",
       "          15.11204027, -129.92090294,   55.86663527,  -51.8835295 ],\n",
       "       [-107.21638868,  -86.70791532,   62.9285887 ,   65.90183552,\n",
       "         -14.71733317,   12.14566276,  -84.54280548,  226.88564945,\n",
       "         138.31011095,  -31.84227721,  -79.75230903, -221.08510024,\n",
       "         140.14814518,  112.74566989,   -9.79714424,   67.03008542,\n",
       "        -139.30666484,    7.35264432,  120.62769631,   -4.96107288],\n",
       "       [ -81.43717974,  254.07426804,  113.19390237,   36.71926066,\n",
       "          44.63265646,  -17.24474466,  292.4648568 , -169.7368085 ,\n",
       "         -16.01390751, -118.9233922 ,   -1.54493248,   17.6821952 ,\n",
       "         179.13045446,  -54.25068212,   57.32516268,  -97.8327099 ,\n",
       "         147.52467422,   -5.63249328,   25.49427357,  225.74051346],\n",
       "       [-224.90590772,  -82.58342617,  -87.90528106,  -98.80250864,\n",
       "         -31.82540614,  -51.75060856,   -7.45860557,   51.69722707,\n",
       "         -62.77529782,   52.53126836,  -75.97219088,  -96.88998055,\n",
       "        -189.46206051,  -16.83915402,  -20.71917204,   50.77286207,\n",
       "          88.85677485, -127.32664745,  -36.27621125,  -88.83035734],\n",
       "       [  63.10526279,  -85.36848574, -203.59830868,  -73.59287301,\n",
       "         178.94415213,  135.18339066,   77.56635612,  140.88200457,\n",
       "         172.06866178,  -91.55179355,  -84.77631637,  215.08736087,\n",
       "         -90.34551966,    7.74342268,    7.0168453 ,   23.86302114,\n",
       "         -44.49929194,  -70.56652473,  -44.43345632,   85.97654818],\n",
       "       [ -47.42534174,  -69.75700686,   30.97713269,  117.21801787,\n",
       "         -13.6917074 , -149.83154792,   24.23891939,  -56.53861628,\n",
       "          83.93817647,  110.61502322,  145.28197937,   15.25281823,\n",
       "          43.23575663,  -75.092647  ,  -34.67907669,  -70.29402405,\n",
       "         148.03701369, -134.06428301,   73.93864707,  -34.61876033],\n",
       "       [-104.26041783,  137.38268015,   55.42770897,   98.16637608,\n",
       "         -59.90784799,  -62.48335506,   89.75807955, -180.92998962,\n",
       "          98.2548349 ,  264.16810716,  109.63552097,  -29.83832714,\n",
       "           6.16998163,   15.76870468, -153.49481031,   71.37929797,\n",
       "          42.551133  , -161.64129408,  -68.70761463,   65.06039485],\n",
       "       [  17.57176   ,   90.6411601 ,   37.18896101,  123.77858974,\n",
       "        -101.37771384,   98.27733499, -147.13897825,  151.04591248,\n",
       "         -37.32623136,   84.75728889,   68.58280791, -136.4428517 ,\n",
       "         143.42541881,   33.13366451,  -22.16062318,   19.24173822,\n",
       "          99.48465251,   -3.89734771,  -25.13964563,   79.19707684],\n",
       "       [   2.35783097,   28.05478704,  -13.6781935 ,   56.61633038,\n",
       "         107.30865652,  -36.75560809, -117.01682624,   80.6474017 ,\n",
       "         -50.17484926, -133.75147165,  139.47328055, -119.03461055,\n",
       "         127.09974069,  -18.45395478,   51.65944022, -167.1613245 ,\n",
       "        -399.36569671,   18.14313051,  -17.59177975,   82.81768237],\n",
       "       [ 181.09186473,  -91.06254861,   88.78259086,  -44.77357995,\n",
       "         -30.76447323,  -36.36512792,  114.55111277,  129.58879636,\n",
       "         -28.41008727,  -10.46909078, -116.9912235 , -162.155853  ,\n",
       "          18.51772353, -126.62822503, -135.16486161,  -21.99607953,\n",
       "           3.19119558,   69.64628688,  154.89049664,   59.72541764],\n",
       "       [-206.7628774 , -170.75213025, -116.20779402,   37.38588231,\n",
       "         -88.47614754,  -28.53706009,  272.38881858, -171.26388081,\n",
       "          14.66201859,  -91.06255703,   37.19702574,   33.55852303,\n",
       "          65.0907924 ,   33.96976848, -124.44337187,  -20.79099108,\n",
       "        -107.08969817,  151.87789076,  118.26454554,   87.4941384 ],\n",
       "       [ -58.76670015, -106.87670883,   34.61190496,   20.23767181,\n",
       "          91.48352222,  122.17951288,  -53.67060627,  -36.73256885,\n",
       "         -34.54952829, -107.34490949,  -60.45653092,   58.65133148,\n",
       "         -33.8930751 ,    0.99211058,   -3.9457041 ,  129.18878808,\n",
       "         163.76033712,   13.57250856,   72.84476023,   31.91854095],\n",
       "       [ -94.40979273, -113.04148367,  -64.73433175,   -1.95688165,\n",
       "           2.42216747,  187.14022301,   69.82923918,  134.43775472,\n",
       "         230.77147365,  155.93365898,  154.28977802,  -26.35705201,\n",
       "        -109.49363773,  -64.5384682 , -156.60476202,   23.76852592,\n",
       "         139.15628475, -145.31436015,   33.86292639, -112.8059667 ],\n",
       "       [  87.68377482,   69.25494515,   61.59825761, -103.39673537,\n",
       "          33.92797731,  248.84811807,   -8.67842476,  -96.50353444,\n",
       "        -138.24557557,   86.00584357,  -13.58288275,  -30.0970971 ,\n",
       "         170.10903089,  -30.57779892,  113.07051359,  137.83174063,\n",
       "          -6.83127   ,  143.6230275 , -208.20481343,  147.91422262],\n",
       "       [-100.18236075,  -76.98554926,   46.39862208,  -82.2345267 ,\n",
       "        -140.42014437,   73.91731119,   -2.60815713, -319.38693566,\n",
       "          35.00616277,  155.41378151, -349.24090202,  -99.03051551,\n",
       "          58.46702929,   55.02495716,  -35.09504808,  -25.98144978,\n",
       "        -111.64881838,   78.29861348,  178.5628417 , -189.72647968],\n",
       "       [ -17.63048402,  -31.0515941 ,  -90.16681903,   33.46536462,\n",
       "          45.06970067,  -33.93414874,  194.98624358,   55.04995364,\n",
       "        -146.64339781,  -10.43533271,   25.40013244,  154.92426667,\n",
       "         108.20687906,  125.87234658,  -85.4886715 ,  -88.31298083,\n",
       "         -51.73623485,  -77.36074187,   72.86235427, -164.40546523]])"
      ]
     },
     "execution_count": 83,
     "metadata": {},
     "output_type": "execute_result"
    }
   ],
   "source": [
    "Age"
   ]
  },
  {
   "cell_type": "code",
   "execution_count": null,
   "metadata": {},
   "outputs": [],
   "source": []
  }
 ],
 "metadata": {
  "kernelspec": {
   "display_name": "Python 3",
   "language": "python",
   "name": "python3"
  },
  "language_info": {
   "codemirror_mode": {
    "name": "ipython",
    "version": 3
   },
   "file_extension": ".py",
   "mimetype": "text/x-python",
   "name": "python",
   "nbconvert_exporter": "python",
   "pygments_lexer": "ipython3",
   "version": "3.6.6"
  }
 },
 "nbformat": 4,
 "nbformat_minor": 2
}
