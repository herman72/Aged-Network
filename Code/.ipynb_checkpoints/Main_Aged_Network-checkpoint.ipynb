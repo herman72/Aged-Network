{
 "cells": [
  {
   "cell_type": "markdown",
   "metadata": {},
   "source": [
    "## Created By: Mohammad Sherafati, 2Dec 2018, m.sherafati7@gmail.com"
   ]
  },
  {
   "cell_type": "markdown",
   "metadata": {},
   "source": [
    "#### Updated: 25April 2019"
   ]
  },
  {
   "cell_type": "markdown",
   "metadata": {},
   "source": [
    "### Import Packages"
   ]
  },
  {
   "cell_type": "code",
   "execution_count": 1,
   "metadata": {},
   "outputs": [],
   "source": [
    "import scipy as sc\n",
    "from scipy.misc import comb\n",
    "import seaborn as sns\n",
    "import numpy as np\n",
    "import random as rnd\n",
    "import matplotlib.pyplot as plt\n",
    "import multiprocessing as mp\n",
    "import matplotlib.patches as mpatches"
   ]
  },
  {
   "cell_type": "markdown",
   "metadata": {},
   "source": [
    "### Variable"
   ]
  },
  {
   "cell_type": "markdown",
   "metadata": {},
   "source": [
    "### Function"
   ]
  },
  {
   "cell_type": "code",
   "execution_count": 3,
   "metadata": {},
   "outputs": [],
   "source": [
    "\n",
    "def Calculate_Energy(i,j,Energy_Adj):\n",
    "\n",
    "    Sum = 0\n",
    "\n",
    "    for k in range(len(Energy_Adj)):\n",
    "\n",
    "        Sum += Energy_Adj[i,k] * Energy_Adj[j,k]\n",
    "\n",
    "    return (((-Sum) * Energy_Adj[i,j])/sc.special.comb(len(Energy_Adj),3))\n",
    "\n",
    "\n",
    "\n",
    "\n",
    "\n",
    "def Cal_Ene_Tot(Energy_Adj,Node):\n",
    "    Ene_Tot = 0\n",
    "\n",
    "    for i in range(len(Energy_Adj)):\n",
    "        for j in range(len(Energy_Adj)):\n",
    "            Ene_Tot += Calculate_Energy(i, j, Energy_Adj)\n",
    "\n",
    "    return (Ene_Tot) /6"
   ]
  },
  {
   "cell_type": "markdown",
   "metadata": {},
   "source": [
    "### Main Code"
   ]
  },
  {
   "cell_type": "code",
   "execution_count": 4,
   "metadata": {},
   "outputs": [],
   "source": [
    "def Mainfunc(Node,age,iterate,ensemble,std):\n",
    "\n",
    "    Node = Node\n",
    "#     Tot_Time = np.zeros((1, 20000))\n",
    "#     Tot_Ene = np.zeros((1, 20000))\n",
    "    Ensemble = ensemble\n",
    "    age = age\n",
    "    iterate = iterate\n",
    "    Aging = np.ones((Node,Node),dtype=int)\n",
    "#     Age_Imshow = []\n",
    "#     Age_Counter = 1\n",
    "    \n",
    "    '''Main'''\n",
    "    Age_adj_ensemble = []\n",
    "    Energy_Adj_ensemble = []\n",
    "    Mean_Age_ensemble = []\n",
    "    Std_Age_ensenble = []\n",
    "    Time_Itrate_ensemble = []\n",
    "\n",
    "    \n",
    "\n",
    "    #ensumble\n",
    "    for ens in range(Ensemble):\n",
    "\n",
    "\n",
    "        T = 0                                                 #Step\n",
    "        Time = []                                             #List Step\n",
    "        Energy_Adj = np.zeros((Node,Node),dtype=int)          #Energy Matrix(staet random)\n",
    "        Mat_Energy = []                                       #Save Energy in every step\n",
    "        Age_adj = np.zeros((Node, Node), dtype=int)           #Age Matrix\n",
    "        Eold = 0\n",
    "        \n",
    "        \n",
    "        Mean_Age = []\n",
    "        Std_Age = []\n",
    "        Time_Itrate = []\n",
    "\n",
    "\n",
    "        \n",
    "        #add Gussian age to nodes\n",
    "        \n",
    "        Random_gaussian = sc.stats.halfnorm.rvs(size=(Node,Node),scale=std)\n",
    "        Age_gaussian = np.triu(Random_gaussian, k=1)\n",
    "        Age_gaussian = Age_gaussian.round()\n",
    "        Age_adj = np.copy(Age_gaussian)\n",
    "        \n",
    "        \n",
    "#         Random_gaussian = np.random.normal(0,std,(Node,Node))\n",
    "#         Age_gaussian = np.absolute(Random_gaussian - np.mean(Random_gaussian))\n",
    "#         Age_gaussian = np.triu(Age_gaussian, k=1)\n",
    "#         Age_adj = np.copy(Age_gaussian)\n",
    "\n",
    "        \n",
    "        \n",
    "        #Create Random First State\n",
    "        for i in range(len(Energy_Adj)):\n",
    "            \n",
    "            for j in range(i,len(Energy_Adj)):\n",
    "                Energy_Adj[i, j] = rnd.choice([-1, 1])\n",
    "                Energy_Adj[j, i] = Energy_Adj[i, j]\n",
    "                \n",
    "                Age_adj[j,i] = Age_adj[i,j]\n",
    "    \n",
    "\n",
    "        #Zero Diognal\n",
    "\n",
    "        np.fill_diagonal(Energy_Adj,0)\n",
    "        np.fill_diagonal(Age_adj,0)\n",
    "        np.fill_diagonal(Aging, 0)\n",
    "        Age_adj = Age_adj.round().astype(int)\n",
    "        \n",
    "        #Age_Imshow.append(Age_adj)\n",
    "        # for i in range(len(Energy_Adj)):\n",
    "        #     Energy_Adj[i, i] = 0\n",
    "        #     Age_adj[i, i] = 0\n",
    "        #     Aging[i,i] = 0\n",
    "\n",
    "\n",
    "\n",
    "        Eold = Cal_Ene_Tot(Energy_Adj, Node)\n",
    "        Copy_Ene_mat = np.copy(Energy_Adj)\n",
    "\n",
    "\n",
    "\n",
    "    #def func(Node,iterate,Energy_Adj):\n",
    "\n",
    "\n",
    "\n",
    "\n",
    "\n",
    "        for t in range(iterate):\n",
    "\n",
    "            Age_network =0\n",
    "            dE = 0\n",
    "            Age_network = Age_adj.max()                       #Find Oldest link\n",
    "\n",
    "\n",
    "            #Change old links with random links\n",
    "            if Age_network == age:\n",
    "                dE = 0\n",
    "                for i in range(Node):\n",
    "                    for j in range(Node):\n",
    "                        p = 0\n",
    "                        p = rnd.choice([-1, 1])\n",
    "\n",
    "                        if Age_adj[i, j] == age:\n",
    "                            Energy_Adj[i, j] = p * Energy_Adj[i, j]\n",
    "                            Energy_Adj[j, i] = p * Energy_Adj[j, i]\n",
    "                            Copy_Ene_mat[i, j] = Energy_Adj[i, j]\n",
    "                            Copy_Ene_mat[j, i] = Energy_Adj[j, i]\n",
    "\n",
    "                            Age_adj[i, j] = 0\n",
    "                            Age_adj[j, i] = 0\n",
    "\n",
    "                            newE = Calculate_Energy(i, j, Energy_Adj)\n",
    "                            oldE = p * newE\n",
    "                            dE += newE - oldE\n",
    "\n",
    "                Eold += dE\n",
    "#                 T += 1\n",
    "#                 Time.append(T)\n",
    "                #Mat_Energy.append(Eold)\n",
    "\n",
    "\n",
    "\n",
    "\n",
    "            #Change links with energy properties\n",
    "\n",
    "            i = rnd.randint(0, Node-1)\n",
    "            j = rnd.randint(0, Node-1)\n",
    "\n",
    "            Copy_Ene_mat[i, j] = -Copy_Ene_mat[i, j]\n",
    "            Copy_Ene_mat[j, i] = -Copy_Ene_mat[j, i]\n",
    "\n",
    "            dE = 0\n",
    "            dE = -2 * Calculate_Energy(i, j, Copy_Ene_mat)\n",
    "            if 0 < dE:\n",
    "\n",
    "                Energy_Adj[i, j] = -Energy_Adj[i, j]\n",
    "                Energy_Adj[j, i] = -Energy_Adj[j, i]\n",
    "\n",
    "                Eold = Eold - dE\n",
    "\n",
    "                Mat_Energy.append(Eold)\n",
    "                T +=1\n",
    "                Time.append(T)\n",
    "\n",
    "                Age_adj = Age_adj + Aging\n",
    "                Age_adj[i, j] = 0\n",
    "                Age_adj[j, i] = 0\n",
    "\n",
    "            else:\n",
    "                Copy_Ene_mat[i, j] = Energy_Adj[i, j]\n",
    "                Copy_Ene_mat[j, i] = Energy_Adj[j, i]\n",
    "                T += 1\n",
    "                Time.append(T)\n",
    "                Mat_Energy.append(Eold)\n",
    "                #Age_adj = Age_adj + Aging\n",
    "            \n",
    "            \n",
    "#             if t == 100 * Age_Counter:\n",
    "#                 Age_Imshow.append(Age_adj)\n",
    "#                 Age_Counter += 1\n",
    "            Mean_Age.append(np.mean(Age_adj)/sc.special.comb(len(Energy_Adj),2))\n",
    "            Std_Age.append(np.std(Age_adj)/sc.special.comb(len(Energy_Adj),2))\n",
    "            Time_Itrate.append(t/sc.special.comb(len(Energy_Adj),2))\n",
    "            \n",
    "        Age_adj_ensemble.append(Age_adj)\n",
    "        Energy_Adj_ensemble.append(Energy_Adj)\n",
    "\n",
    "\n",
    "        Mean_Age_ensemble.append(Mean_Age)\n",
    "        #print(Std_Age)\n",
    "        Std_Age_ensenble.append(Std_Age)\n",
    "        #Time_Itrate_ensemble.append(Time_Itrate)\n",
    "\n",
    "\n",
    "\n",
    "\n",
    "    #np.savetxt('STD'+ str(thread_no)+str(ens) + '.txt', Std_Age_ensenble)\n",
    "    #np.savetxt('LifeTime'+str(thread_no)+'.txt',Time_Itrate)\n",
    "    #return Time, Mat_Energy, Age_adj,Age_Imshow,Std_Age,Mean_Age,Time_Itrate   \n",
    "\n",
    "        \n",
    "            \n",
    "    \n",
    "    return Time, Mat_Energy, Age_adj,Std_Age,Mean_Age,Time_Itrate\n"
   ]
  },
  {
   "cell_type": "code",
   "execution_count": 5,
   "metadata": {},
   "outputs": [],
   "source": [
    "Fun_Test = Mainfunc(128,6500,80000,1,10)"
   ]
  },
  {
   "cell_type": "code",
   "execution_count": 15,
   "metadata": {},
   "outputs": [
    {
     "data": {
      "text/plain": [
       "-0.9970472440944717"
      ]
     },
     "execution_count": 15,
     "metadata": {},
     "output_type": "execute_result"
    }
   ],
   "source": [
    "np.mean(Fun_Test[1][-10:])"
   ]
  },
  {
   "cell_type": "code",
   "execution_count": 19,
   "metadata": {},
   "outputs": [
    {
     "data": {
      "text/plain": [
       "3856.633544921875"
      ]
     },
     "execution_count": 19,
     "metadata": {},
     "output_type": "execute_result"
    }
   ],
   "source": [
    "np.mean(Fun_Test[2])"
   ]
  },
  {
   "cell_type": "code",
   "execution_count": 20,
   "metadata": {},
   "outputs": [
    {
     "data": {
      "text/plain": [
       "80000"
      ]
     },
     "execution_count": 20,
     "metadata": {},
     "output_type": "execute_result"
    }
   ],
   "source": [
    "len(Fun_Test[0])"
   ]
  },
  {
   "cell_type": "code",
   "execution_count": 21,
   "metadata": {},
   "outputs": [
    {
     "data": {
      "text/plain": [
       "80000"
      ]
     },
     "execution_count": 21,
     "metadata": {},
     "output_type": "execute_result"
    }
   ],
   "source": [
    "len(Fun_Test[1])"
   ]
  },
  {
   "cell_type": "code",
   "execution_count": 9,
   "metadata": {},
   "outputs": [
    {
     "data": {
      "text/plain": [
       "[<matplotlib.lines.Line2D at 0x7f92004648d0>]"
      ]
     },
     "execution_count": 9,
     "metadata": {},
     "output_type": "execute_result"
    },
    {
     "data": {
      "image/png": "[encoded data removed]",
      "text/plain": [
       "<Figure size 432x288 with 1 Axes>"
      ]
     },
     "metadata": {
      "needs_background": "light"
     },
     "output_type": "display_data"
    }
   ],
   "source": [
    "plt.plot(Fun_Test[0],Fun_Test[1])"
   ]
  },
  {
   "cell_type": "code",
   "execution_count": 19,
   "metadata": {},
   "outputs": [
    {
     "data": {
      "text/plain": [
       "<matplotlib.axes._subplots.AxesSubplot at 0x7f990d51f358>"
      ]
     },
     "execution_count": 19,
     "metadata": {},
     "output_type": "execute_result"
    },
    {
     "data": {
      "image/png": "[encoded data removed]",
      "text/plain": [
       "<Figure size 432x288 with 1 Axes>"
      ]
     },
     "metadata": {
      "needs_background": "light"
     },
     "output_type": "display_data"
    }
   ],
   "source": [
    "sns.kdeplot(np.reshape(Fun_Test[2],(1,len(Fun_Test[2])**2))[0])"
   ]
  },
  {
   "cell_type": "code",
   "execution_count": 20,
   "metadata": {},
   "outputs": [
    {
     "data": {
      "text/plain": [
       "26562"
      ]
     },
     "execution_count": 20,
     "metadata": {},
     "output_type": "execute_result"
    },
    {
     "data": {
      "image/png": "[encoded data removed]",
      "text/plain": [
       "<Figure size 432x288 with 1 Axes>"
      ]
     },
     "metadata": {
      "needs_background": "light"
     },
     "output_type": "display_data"
    }
   ],
   "source": [
    "sns.distplot(np.reshape(Fun_Test[2],(1,len(Fun_Test[2])**2))[0])\n",
    "#np.std(np.reshape(Fun_Test[2],(1,len(Fun_Test[2])**2))[0])\n",
    "np.reshape(Fun_Test[2],(1,len(Fun_Test[2])**2))[0].max()"
   ]
  },
  {
   "cell_type": "code",
   "execution_count": 22,
   "metadata": {},
   "outputs": [],
   "source": [
    "# for i in range(len(Fun_Test[3])):\n",
    "#     plt.hist(np.reshape(Fun_Test[3][i*10],(1,len(Fun_Test[3][i])**2))[0])\n",
    "# for i in range(len(Fun_Test[3])):\n",
    "#     sns.kdeplot(np.reshape(Fun_Test[3][i],(1,len(Fun_Test[3][i])**2))[0])\n",
    "#plt.savefig('a')"
   ]
  },
  {
   "cell_type": "code",
   "execution_count": 23,
   "metadata": {},
   "outputs": [],
   "source": [
    "#len(Fun_Test[3])\n",
    "#sns.kdeplot(np.reshape(Fun_Test[3][-1],(1,len(Fun_Test[3][0])**2))[-1])\n",
    "# for i in range(700,801,1):\n",
    "#     sns.kdeplot(np.reshape(Fun_Test[3][i],(1,len(Fun_Test[3][i])**2))[0])\n",
    "#plt.savefig('a')"
   ]
  },
  {
   "cell_type": "code",
   "execution_count": 14,
   "metadata": {},
   "outputs": [],
   "source": [
    "# Random_gaussian = np.random.normal(0,100,(32,32))\n",
    "# Age_gaussian = np.absolute(Random_gaussian - np.mean(Random_gaussian))\n",
    "# Age_gaussian = np.triu(Age_gaussian, k=1)\n",
    "# Age_adj = np.copy(Age_gaussian)\n"
   ]
  },
  {
   "cell_type": "code",
   "execution_count": 21,
   "metadata": {},
   "outputs": [],
   "source": [
    "#sns.kdeplot(np.reshape(Fun_Test[3][0],(1,len(Fun_Test[3][0])**2))[0])\n"
   ]
  },
  {
   "cell_type": "code",
   "execution_count": 20,
   "metadata": {},
   "outputs": [],
   "source": [
    "#np.reshape(Fun_Test[3][0],(1,len(Fun_Test[3][0])**2))[0].max()"
   ]
  },
  {
   "cell_type": "code",
   "execution_count": 99,
   "metadata": {},
   "outputs": [
    {
     "ename": "KeyboardInterrupt",
     "evalue": "",
     "output_type": "error",
     "traceback": [
      "\u001b[0;31m---------------------------------------------------------------------------\u001b[0m",
      "\u001b[0;31mKeyboardInterrupt\u001b[0m                         Traceback (most recent call last)",
      "\u001b[0;32m<ipython-input-99-0041d0ef7444>\u001b[0m in \u001b[0;36m<module>\u001b[0;34m\u001b[0m\n\u001b[1;32m      2\u001b[0m \u001b[0mThresh\u001b[0m \u001b[0;34m=\u001b[0m \u001b[0;34m[\u001b[0m\u001b[0;34m]\u001b[0m\u001b[0;34m\u001b[0m\u001b[0;34m\u001b[0m\u001b[0m\n\u001b[1;32m      3\u001b[0m \u001b[0;32mfor\u001b[0m \u001b[0mi\u001b[0m \u001b[0;32min\u001b[0m \u001b[0mrange\u001b[0m\u001b[0;34m(\u001b[0m\u001b[0;36m500\u001b[0m\u001b[0;34m,\u001b[0m\u001b[0;36m5501\u001b[0m\u001b[0;34m,\u001b[0m\u001b[0;36m50\u001b[0m\u001b[0;34m)\u001b[0m\u001b[0;34m:\u001b[0m\u001b[0;34m\u001b[0m\u001b[0;34m\u001b[0m\u001b[0m\n\u001b[0;32m----> 4\u001b[0;31m     \u001b[0mFun_Test1\u001b[0m \u001b[0;34m=\u001b[0m \u001b[0mMainfunc\u001b[0m\u001b[0;34m(\u001b[0m\u001b[0;36m128\u001b[0m\u001b[0;34m,\u001b[0m\u001b[0mi\u001b[0m\u001b[0;34m,\u001b[0m\u001b[0;36m75000\u001b[0m\u001b[0;34m,\u001b[0m\u001b[0;36m1\u001b[0m\u001b[0;34m,\u001b[0m\u001b[0;36m10\u001b[0m\u001b[0;34m)\u001b[0m\u001b[0;34m\u001b[0m\u001b[0;34m\u001b[0m\u001b[0m\n\u001b[0m\u001b[1;32m      5\u001b[0m     \u001b[0mMean_Ene\u001b[0m\u001b[0;34m.\u001b[0m\u001b[0mappend\u001b[0m\u001b[0;34m(\u001b[0m\u001b[0mnp\u001b[0m\u001b[0;34m.\u001b[0m\u001b[0mmean\u001b[0m\u001b[0;34m(\u001b[0m\u001b[0mFun_Test1\u001b[0m\u001b[0;34m[\u001b[0m\u001b[0;36m1\u001b[0m\u001b[0;34m]\u001b[0m\u001b[0;34m)\u001b[0m\u001b[0;34m)\u001b[0m\u001b[0;34m\u001b[0m\u001b[0;34m\u001b[0m\u001b[0m\n\u001b[1;32m      6\u001b[0m     \u001b[0mThresh\u001b[0m\u001b[0;34m.\u001b[0m\u001b[0mappend\u001b[0m\u001b[0;34m(\u001b[0m\u001b[0mi\u001b[0m\u001b[0;34m/\u001b[0m\u001b[0msc\u001b[0m\u001b[0;34m.\u001b[0m\u001b[0mspecial\u001b[0m\u001b[0;34m.\u001b[0m\u001b[0mcomb\u001b[0m\u001b[0;34m(\u001b[0m\u001b[0;36m128\u001b[0m\u001b[0;34m,\u001b[0m\u001b[0;36m2\u001b[0m\u001b[0;34m)\u001b[0m\u001b[0;34m)\u001b[0m\u001b[0;34m\u001b[0m\u001b[0;34m\u001b[0m\u001b[0m\n",
      "\u001b[0;32m<ipython-input-59-9194c8efd0db>\u001b[0m in \u001b[0;36mMainfunc\u001b[0;34m(Node, age, iterate, ensemble, std)\u001b[0m\n\u001b[1;32m    102\u001b[0m                     \u001b[0;32mfor\u001b[0m \u001b[0mj\u001b[0m \u001b[0;32min\u001b[0m \u001b[0mrange\u001b[0m\u001b[0;34m(\u001b[0m\u001b[0mNode\u001b[0m\u001b[0;34m)\u001b[0m\u001b[0;34m:\u001b[0m\u001b[0;34m\u001b[0m\u001b[0;34m\u001b[0m\u001b[0m\n\u001b[1;32m    103\u001b[0m                         \u001b[0mp\u001b[0m \u001b[0;34m=\u001b[0m \u001b[0;36m0\u001b[0m\u001b[0;34m\u001b[0m\u001b[0;34m\u001b[0m\u001b[0m\n\u001b[0;32m--> 104\u001b[0;31m                         \u001b[0mp\u001b[0m \u001b[0;34m=\u001b[0m \u001b[0mrnd\u001b[0m\u001b[0;34m.\u001b[0m\u001b[0mchoice\u001b[0m\u001b[0;34m(\u001b[0m\u001b[0;34m[\u001b[0m\u001b[0;34m-\u001b[0m\u001b[0;36m1\u001b[0m\u001b[0;34m,\u001b[0m \u001b[0;36m1\u001b[0m\u001b[0;34m]\u001b[0m\u001b[0;34m)\u001b[0m\u001b[0;34m\u001b[0m\u001b[0;34m\u001b[0m\u001b[0m\n\u001b[0m\u001b[1;32m    105\u001b[0m \u001b[0;34m\u001b[0m\u001b[0m\n\u001b[1;32m    106\u001b[0m                         \u001b[0;32mif\u001b[0m \u001b[0mAge_adj\u001b[0m\u001b[0;34m[\u001b[0m\u001b[0mi\u001b[0m\u001b[0;34m,\u001b[0m \u001b[0mj\u001b[0m\u001b[0;34m]\u001b[0m \u001b[0;34m==\u001b[0m \u001b[0mage\u001b[0m\u001b[0;34m:\u001b[0m\u001b[0;34m\u001b[0m\u001b[0;34m\u001b[0m\u001b[0m\n",
      "\u001b[0;31mKeyboardInterrupt\u001b[0m: "
     ]
    }
   ],
   "source": [
    "Mean_Ene = []\n",
    "Thresh = []\n",
    "\n",
    "for i in range(500,5501,50):\n",
    "    Fun_Test1 = Mainfunc(128,i,75000,1,10)\n",
    "    Mean_Ene.append(np.mean(Fun_Test1[1]))\n",
    "    Thresh.append(i/sc.special.comb(128,2))\n",
    "    "
   ]
  },
  {
   "cell_type": "code",
   "execution_count": null,
   "metadata": {},
   "outputs": [],
   "source": [
    "plt.plot(Thresh,Mean_Ene)"
   ]
  },
  {
   "cell_type": "code",
   "execution_count": null,
   "metadata": {},
   "outputs": [],
   "source": [
    "len(Thresh)"
   ]
  },
  {
   "cell_type": "code",
   "execution_count": 92,
   "metadata": {},
   "outputs": [],
   "source": [
    "np.savetxt('T128.txt',Thresh)\n",
    "np.savetxt('E128.txt',Mean_Ene)"
   ]
  },
  {
   "cell_type": "code",
   "execution_count": 4,
   "metadata": {},
   "outputs": [
    {
     "data": {
      "image/png": "[encoded data removed]",
      "text/plain": [
       "<Figure size 432x288 with 1 Axes>"
      ]
     },
     "metadata": {
      "needs_background": "light"
     },
     "output_type": "display_data"
    }
   ],
   "source": [
    "# In this part draw the phase transition part\n",
    "\n",
    "List_Nom = [16,32,64,128]\n",
    "for i in List_Nom :\n",
    "    Mean_Func = np.loadtxt('/home/mohammad/Documents/Thesis/Results/Transition Point/EFinal'+str(i)+'.txt')\n",
    "    Thres = np.loadtxt('/home/mohammad/Documents/Thesis/Results/Transition Point/T'+str(i)+'.txt')\n",
    "    plt.plot(Thres,Mean_Func)\n",
    "plt.savefig('(128,64-32-16)-LifTime.png',figsize = (12,7),dpi=300)"
   ]
  },
  {
   "cell_type": "code",
   "execution_count": 13,
   "metadata": {},
   "outputs": [
    {
     "data": {
      "text/plain": [
       "-0.8875983660954292"
      ]
     },
     "execution_count": 13,
     "metadata": {},
     "output_type": "execute_result"
    }
   ],
   "source": [
    "Mean_Func[-1]"
   ]
  },
  {
   "cell_type": "code",
   "execution_count": 28,
   "metadata": {},
   "outputs": [
    {
     "data": {
      "image/png": "[encoded data removed]",
      "text/plain": [
       "<Figure size 432x288 with 1 Axes>"
      ]
     },
     "metadata": {
      "needs_background": "light"
     },
     "output_type": "display_data"
    }
   ],
   "source": [
    "for i in (100,1000):\n",
    "    Fun_Test = Mainfunc(32,i,6000,1,10)\n",
    "    plt.plot(Fun_Test[6][100:300],Fun_Test[4][100:300])"
   ]
  },
  {
   "cell_type": "code",
   "execution_count": 5,
   "metadata": {},
   "outputs": [],
   "source": [
    "# set Item for age threshold over time life\n",
    "Node = 64\n",
    "age = 1920                  # Max age of network in normal balance\n",
    "iterate = 25000             # it depends on nodes and age, for normal balance\n",
    "ensemble = 1\n",
    "std = 10                    # constant for all of them but  WHY?!"
   ]
  },
  {
   "cell_type": "code",
   "execution_count": 6,
   "metadata": {},
   "outputs": [],
   "source": [
    "# In this code we itrate in time life with age threshold\n",
    "\n",
    "def ensFun(thread_no,Node,age,iterate,ensemble,std):\n",
    "    \n",
    "    Mean_Ene = []\n",
    "    Thresh = []\n",
    "\n",
    "    for i in range(20,age+1,19):\n",
    "        Fun_Test1 = Mainfunc(Node,i,iterate,ensemble,std)\n",
    "        Mean_Ene.append(np.mean(Fun_Test1[1]))\n",
    "        Thresh.append(i/sc.special.comb(Node,2))\n",
    "    np.savetxt('/home/mohammad/Documents/Thesis/Aged-Network/Code/Output100/'+'STD100'+ str(thread_no)+str(64) + '.txt', Mean_Ene)\n",
    "    np.savetxt('/home/mohammad/Documents/Thesis/Aged-Network/Code/Output/'+'STD'+ str(thread_no)+str(64) + '.txt', Thresh)\n",
    "\n",
    "\n",
    "\n",
    "    \n",
    "    "
   ]
  },
  {
   "cell_type": "code",
   "execution_count": null,
   "metadata": {},
   "outputs": [],
   "source": [
    "# In this Part 16 ensemble , each core 4 times\n",
    "if __name__ == \"__main__\":\n",
    "    thread_no = 0\n",
    "    for i in range(4):\n",
    "        processes = []\n",
    "        for j in range(4):\n",
    "            processes.append(mp.Process(target=ensFun, args=(thread_no,Node,age,iterate,ensemble,std)))\n",
    "            thread_no += 1\n",
    "        for p in processes:\n",
    "            p.start()\n",
    "        for p in processes:\n",
    "            p.join()\n",
    "\n"
   ]
  },
  {
   "cell_type": "code",
   "execution_count": null,
   "metadata": {},
   "outputs": [],
   "source": []
  }
 ],
 "metadata": {
  "kernelspec": {
   "display_name": "Python 3",
   "language": "python",
   "name": "python3"
  },
  "language_info": {
   "codemirror_mode": {
    "name": "ipython",
    "version": 3
   },
   "file_extension": ".py",
   "mimetype": "text/x-python",
   "name": "python",
   "nbconvert_exporter": "python",
   "pygments_lexer": "ipython3",
   "version": "3.6.7"
  }
 },
 "nbformat": 4,
 "nbformat_minor": 2
}
