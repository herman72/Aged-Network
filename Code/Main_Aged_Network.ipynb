{
 "cells": [
  {
   "cell_type": "markdown",
   "metadata": {},
   "source": [
    "## Created By: Mohammad Sherafati, 2Dec 2018, m.sherafati7@gmail.com"
   ]
  },
  {
   "cell_type": "markdown",
   "metadata": {},
   "source": [
    "### Import Packages"
   ]
  },
  {
   "cell_type": "code",
   "execution_count": 1,
   "metadata": {},
   "outputs": [],
   "source": [
    "import scipy as sc\n",
    "from scipy.misc import comb\n",
    "import seaborn as sns\n",
    "import numpy as np\n",
    "import random as rnd\n",
    "import matplotlib.pyplot as plt\n",
    "import multiprocessing as mp\n",
    "import matplotlib.patches as mpatches"
   ]
  },
  {
   "cell_type": "markdown",
   "metadata": {},
   "source": [
    "### Variable"
   ]
  },
  {
   "cell_type": "code",
   "execution_count": 2,
   "metadata": {},
   "outputs": [],
   "source": [
    "Set_Age = 100\n",
    "ensemble = 1"
   ]
  },
  {
   "cell_type": "markdown",
   "metadata": {},
   "source": [
    "### Function"
   ]
  },
  {
   "cell_type": "code",
   "execution_count": 3,
   "metadata": {},
   "outputs": [],
   "source": [
    "\n",
    "def Calculate_Energy(i,j,Energy_Adj):\n",
    "\n",
    "    Sum = 0\n",
    "\n",
    "    for k in range(len(Energy_Adj)):\n",
    "\n",
    "        Sum += Energy_Adj[i,k] * Energy_Adj[j,k]\n",
    "\n",
    "    return (((-Sum) * Energy_Adj[i,j])/sc.special.comb(len(Energy_Adj),3))\n",
    "\n",
    "\n",
    "\n",
    "\n",
    "\n",
    "def Cal_Ene_Tot(Energy_Adj,Node):\n",
    "    Ene_Tot = 0\n",
    "\n",
    "    for i in range(len(Energy_Adj)):\n",
    "        for j in range(len(Energy_Adj)):\n",
    "            Ene_Tot += Calculate_Energy(i, j, Energy_Adj)\n",
    "\n",
    "    return (Ene_Tot) /6"
   ]
  },
  {
   "cell_type": "markdown",
   "metadata": {},
   "source": [
    "### Main Code"
   ]
  },
  {
   "cell_type": "code",
   "execution_count": 4,
   "metadata": {},
   "outputs": [],
   "source": [
    "def Mainfunc(Node,age,iterate,ensemble,std):\n",
    "\n",
    "    Node = Node\n",
    "    Tot_Time = np.zeros((1, 20000))\n",
    "    Tot_Ene = np.zeros((1, 20000))\n",
    "    ensemble = ensemble\n",
    "    age = age\n",
    "    iterate = iterate\n",
    "    Aging = np.ones((Node,Node),dtype=int)\n",
    "    Age_Imshow = []\n",
    "    Age_Counter = 1\n",
    "\n",
    "    '''Main'''\n",
    "\n",
    "\n",
    "    #ensumble\n",
    "    for ens in range(ensemble):\n",
    "\n",
    "\n",
    "        T = 0                                                 #Step\n",
    "        Time = []                                             #List Step\n",
    "        Energy_Adj = np.zeros((Node,Node),dtype=int)          #Energy Matrix(staet random)\n",
    "        Mat_Energy = []                                       #Save Energy in every step\n",
    "        Age_adj = np.zeros((Node, Node), dtype=int)           #Age Matrix\n",
    "        Eold = 0\n",
    "\n",
    "        \n",
    "        #add Gussian age to nodes\n",
    "        Random_gaussian = np.random.normal(0,std,(Node,Node))\n",
    "        Age_gaussian = np.absolute(Random_gaussian - np.mean(Random_gaussian))\n",
    "        Age_gaussian = np.triu(Age_gaussian, k=1)\n",
    "        Age_adj = np.copy(Age_gaussian)\n",
    "\n",
    "        \n",
    "        \n",
    "        #Create Random First State\n",
    "        for i in range(len(Energy_Adj)):\n",
    "            \n",
    "            for j in range(i,len(Energy_Adj)):\n",
    "                Energy_Adj[i, j] = rnd.choice([-1, 1])\n",
    "                Energy_Adj[j, i] = Energy_Adj[i, j]\n",
    "#                 Age_adj[i, j] =    Age_gaussian[j]                 #rnd.randint(0,age)\n",
    "#                 Age_adj[j, i] = Age_adj[i, j]\n",
    "                Age_adj[j,i] = Age_adj[i,j]\n",
    "    \n",
    "\n",
    "        #Zero Diognal\n",
    "\n",
    "        np.fill_diagonal(Energy_Adj,0)\n",
    "        np.fill_diagonal(Age_adj,0)\n",
    "        np.fill_diagonal(Aging, 0)\n",
    "        Age_adj = Age_adj.round().astype(int)\n",
    "        \n",
    "        Age_Imshow.append(Age_adj)\n",
    "        # for i in range(len(Energy_Adj)):\n",
    "        #     Energy_Adj[i, i] = 0\n",
    "        #     Age_adj[i, i] = 0\n",
    "        #     Aging[i,i] = 0\n",
    "\n",
    "\n",
    "\n",
    "        Eold = Cal_Ene_Tot(Energy_Adj, Node)\n",
    "        Copy_Ene_mat = np.copy(Energy_Adj)\n",
    "\n",
    "\n",
    "\n",
    "    #def func(Node,iterate,Energy_Adj):\n",
    "\n",
    "\n",
    "\n",
    "\n",
    "\n",
    "        for t in range(iterate):\n",
    "\n",
    "            Age_network =0\n",
    "            dE = 0\n",
    "            Age_network = Age_adj.max()                       #Find Oldest link\n",
    "\n",
    "\n",
    "            #Change old links with random links\n",
    "            if Age_network == age:\n",
    "                dE = 0\n",
    "                for i in range(Node):\n",
    "                    for j in range(Node):\n",
    "                        p = 0\n",
    "                        p = rnd.choice([-1, 1])\n",
    "\n",
    "                        if Age_adj[i, j] == age:\n",
    "                            Energy_Adj[i, j] = p * Energy_Adj[i, j]\n",
    "                            Energy_Adj[j, i] = p * Energy_Adj[j, i]\n",
    "                            Copy_Ene_mat[i, j] = Energy_Adj[i, j]\n",
    "                            Copy_Ene_mat[j, i] = Energy_Adj[j, i]\n",
    "\n",
    "                            Age_adj[i, j] = 0\n",
    "                            Age_adj[j, i] = 0\n",
    "\n",
    "                            newE = Calculate_Energy(i, j, Energy_Adj)\n",
    "                            oldE = p * Calculate_Energy(i, j, Energy_Adj)\n",
    "                            dE += newE - oldE\n",
    "\n",
    "                Eold += dE\n",
    "                T += 1\n",
    "                Time.append(T)\n",
    "                Mat_Energy.append(Eold)\n",
    "\n",
    "\n",
    "\n",
    "\n",
    "            #Change links with energy properties\n",
    "\n",
    "            i = rnd.randint(0, Node-1)\n",
    "            j = rnd.randint(0, Node-1)\n",
    "\n",
    "            Copy_Ene_mat[i, j] = -Copy_Ene_mat[i, j]\n",
    "            Copy_Ene_mat[j, i] = -Copy_Ene_mat[j, i]\n",
    "\n",
    "            dE = 0\n",
    "            dE = -2 * Calculate_Energy(i, j, Copy_Ene_mat)\n",
    "            if 0 < dE:\n",
    "\n",
    "                Energy_Adj[i, j] = -Energy_Adj[i, j]\n",
    "                Energy_Adj[j, i] = -Energy_Adj[j, i]\n",
    "\n",
    "                Eold = Eold - dE\n",
    "\n",
    "                Mat_Energy.append(Eold)\n",
    "                T +=1\n",
    "                Time.append(T)\n",
    "\n",
    "                Age_adj = Age_adj + Aging\n",
    "                Age_adj[i, j] = 0\n",
    "                Age_adj[j, i] = 0\n",
    "\n",
    "            else:\n",
    "                Copy_Ene_mat[i, j] = Energy_Adj[i, j]\n",
    "                Copy_Ene_mat[j, i] = Energy_Adj[j, i]\n",
    "                T += 1\n",
    "                Time.append(T)\n",
    "                Mat_Energy.append(Eold)\n",
    "                #Age_adj = Age_adj + Aging\n",
    "\n",
    "            if t == 100 * Age_Counter:\n",
    "                Age_Imshow.append(Age_adj)\n",
    "                Age_Counter += 1\n",
    "\n",
    "    return Time, Mat_Energy, Age_adj, Age_Imshow\n"
   ]
  },
  {
   "cell_type": "code",
   "execution_count": 5,
   "metadata": {},
   "outputs": [],
   "source": [
    "Fun_Test = Mainfunc(32,10000,6000,1,10)"
   ]
  },
  {
   "cell_type": "code",
   "execution_count": 6,
   "metadata": {},
   "outputs": [
    {
     "data": {
      "text/plain": [
       "259"
      ]
     },
     "execution_count": 6,
     "metadata": {},
     "output_type": "execute_result"
    }
   ],
   "source": [
    "#np.std(Fun_Test[2])\n",
    "(Fun_Test[2].max())"
   ]
  },
  {
   "cell_type": "code",
   "execution_count": 7,
   "metadata": {},
   "outputs": [
    {
     "data": {
      "text/plain": [
       "80.83651916937603"
      ]
     },
     "execution_count": 7,
     "metadata": {},
     "output_type": "execute_result"
    }
   ],
   "source": [
    "np.std(Fun_Test[2])"
   ]
  },
  {
   "cell_type": "code",
   "execution_count": 8,
   "metadata": {},
   "outputs": [
    {
     "data": {
      "text/plain": [
       "[<matplotlib.lines.Line2D at 0x7f80e5266080>]"
      ]
     },
     "execution_count": 8,
     "metadata": {},
     "output_type": "execute_result"
    },
    {
     "data": {
      "image/png": "[encoded data removed]",
      "text/plain": [
       "<Figure size 432x288 with 1 Axes>"
      ]
     },
     "metadata": {
      "needs_background": "light"
     },
     "output_type": "display_data"
    }
   ],
   "source": [
    "plt.plot(Fun_Test[0],Fun_Test[1])"
   ]
  },
  {
   "cell_type": "code",
   "execution_count": 9,
   "metadata": {},
   "outputs": [
    {
     "data": {
      "text/plain": [
       "<matplotlib.axes._subplots.AxesSubplot at 0x7f80e523fef0>"
      ]
     },
     "execution_count": 9,
     "metadata": {},
     "output_type": "execute_result"
    },
    {
     "data": {
      "image/png": "[encoded data removed]",
      "text/plain": [
       "<Figure size 432x288 with 1 Axes>"
      ]
     },
     "metadata": {
      "needs_background": "light"
     },
     "output_type": "display_data"
    }
   ],
   "source": [
    "sns.kdeplot(np.reshape(Fun_Test[2],(1,len(Fun_Test[2])**2))[0])"
   ]
  },
  {
   "cell_type": "code",
   "execution_count": 10,
   "metadata": {},
   "outputs": [
    {
     "name": "stderr",
     "output_type": "stream",
     "text": [
      "/home/mohammad/.local/lib/python3.6/site-packages/scipy/stats/stats.py:1713: FutureWarning: Using a non-tuple sequence for multidimensional indexing is deprecated; use `arr[tuple(seq)]` instead of `arr[seq]`. In the future this will be interpreted as an array index, `arr[np.array(seq)]`, which will result either in an error or a different result.\n",
      "  return np.add.reduce(sorted[indexer] * weights, axis=axis) / sumval\n"
     ]
    },
    {
     "data": {
      "text/plain": [
       "259"
      ]
     },
     "execution_count": 10,
     "metadata": {},
     "output_type": "execute_result"
    },
    {
     "data": {
      "image/png": "[encoded data removed]",
      "text/plain": [
       "<Figure size 432x288 with 1 Axes>"
      ]
     },
     "metadata": {
      "needs_background": "light"
     },
     "output_type": "display_data"
    }
   ],
   "source": [
    "sns.distplot(np.reshape(Fun_Test[2],(1,len(Fun_Test[2])**2))[0])\n",
    "#np.std(np.reshape(Fun_Test[2],(1,len(Fun_Test[2])**2))[0])\n",
    "np.reshape(Fun_Test[2],(1,len(Fun_Test[2])**2))[0].max()"
   ]
  },
  {
   "cell_type": "code",
   "execution_count": 11,
   "metadata": {},
   "outputs": [
    {
     "ename": "IndexError",
     "evalue": "list index out of range",
     "output_type": "error",
     "traceback": [
      "\u001b[0;31m---------------------------------------------------------------------------\u001b[0m",
      "\u001b[0;31mIndexError\u001b[0m                                Traceback (most recent call last)",
      "\u001b[0;32m<ipython-input-11-133ce4d32b9a>\u001b[0m in \u001b[0;36m<module>\u001b[0;34m\u001b[0m\n\u001b[1;32m      1\u001b[0m \u001b[0;32mfor\u001b[0m \u001b[0mi\u001b[0m \u001b[0;32min\u001b[0m \u001b[0mrange\u001b[0m\u001b[0;34m(\u001b[0m\u001b[0mlen\u001b[0m\u001b[0;34m(\u001b[0m\u001b[0mFun_Test\u001b[0m\u001b[0;34m[\u001b[0m\u001b[0;36m3\u001b[0m\u001b[0;34m]\u001b[0m\u001b[0;34m)\u001b[0m\u001b[0;34m)\u001b[0m\u001b[0;34m:\u001b[0m\u001b[0;34m\u001b[0m\u001b[0;34m\u001b[0m\u001b[0m\n\u001b[0;32m----> 2\u001b[0;31m     \u001b[0mplt\u001b[0m\u001b[0;34m.\u001b[0m\u001b[0mhist\u001b[0m\u001b[0;34m(\u001b[0m\u001b[0mnp\u001b[0m\u001b[0;34m.\u001b[0m\u001b[0mreshape\u001b[0m\u001b[0;34m(\u001b[0m\u001b[0mFun_Test\u001b[0m\u001b[0;34m[\u001b[0m\u001b[0;36m3\u001b[0m\u001b[0;34m]\u001b[0m\u001b[0;34m[\u001b[0m\u001b[0mi\u001b[0m\u001b[0;34m*\u001b[0m\u001b[0;36m10\u001b[0m\u001b[0;34m]\u001b[0m\u001b[0;34m,\u001b[0m\u001b[0;34m(\u001b[0m\u001b[0;36m1\u001b[0m\u001b[0;34m,\u001b[0m\u001b[0mlen\u001b[0m\u001b[0;34m(\u001b[0m\u001b[0mFun_Test\u001b[0m\u001b[0;34m[\u001b[0m\u001b[0;36m3\u001b[0m\u001b[0;34m]\u001b[0m\u001b[0;34m[\u001b[0m\u001b[0mi\u001b[0m\u001b[0;34m]\u001b[0m\u001b[0;34m)\u001b[0m\u001b[0;34m**\u001b[0m\u001b[0;36m2\u001b[0m\u001b[0;34m)\u001b[0m\u001b[0;34m)\u001b[0m\u001b[0;34m[\u001b[0m\u001b[0;36m0\u001b[0m\u001b[0;34m]\u001b[0m\u001b[0;34m)\u001b[0m\u001b[0;34m\u001b[0m\u001b[0;34m\u001b[0m\u001b[0m\n\u001b[0m\u001b[1;32m      3\u001b[0m \u001b[0;31m# for i in range(len(Fun_Test[3])):\u001b[0m\u001b[0;34m\u001b[0m\u001b[0;34m\u001b[0m\u001b[0;34m\u001b[0m\u001b[0m\n\u001b[1;32m      4\u001b[0m \u001b[0;31m#     sns.kdeplot(np.reshape(Fun_Test[3][i],(1,len(Fun_Test[3][i])**2))[0])\u001b[0m\u001b[0;34m\u001b[0m\u001b[0;34m\u001b[0m\u001b[0;34m\u001b[0m\u001b[0m\n\u001b[1;32m      5\u001b[0m \u001b[0;31m#plt.savefig('a')\u001b[0m\u001b[0;34m\u001b[0m\u001b[0;34m\u001b[0m\u001b[0;34m\u001b[0m\u001b[0m\n",
      "\u001b[0;31mIndexError\u001b[0m: list index out of range"
     ]
    },
    {
     "data": {
      "image/png": "[encoded data removed]",
      "text/plain": [
       "<Figure size 432x288 with 1 Axes>"
      ]
     },
     "metadata": {
      "needs_background": "light"
     },
     "output_type": "display_data"
    }
   ],
   "source": [
    "for i in range(len(Fun_Test[3])):\n",
    "    plt.hist(np.reshape(Fun_Test[3][i*10],(1,len(Fun_Test[3][i])**2))[0])\n",
    "# for i in range(len(Fun_Test[3])):\n",
    "#     sns.kdeplot(np.reshape(Fun_Test[3][i],(1,len(Fun_Test[3][i])**2))[0])\n",
    "#plt.savefig('a')"
   ]
  },
  {
   "cell_type": "code",
   "execution_count": 12,
   "metadata": {},
   "outputs": [
    {
     "ename": "IndexError",
     "evalue": "list index out of range",
     "output_type": "error",
     "traceback": [
      "\u001b[0;31m---------------------------------------------------------------------------\u001b[0m",
      "\u001b[0;31mIndexError\u001b[0m                                Traceback (most recent call last)",
      "\u001b[0;32m<ipython-input-12-5ca0ac874c9f>\u001b[0m in \u001b[0;36m<module>\u001b[0;34m\u001b[0m\n\u001b[1;32m      2\u001b[0m \u001b[0;31m#sns.kdeplot(np.reshape(Fun_Test[3][-1],(1,len(Fun_Test[3][0])**2))[-1])\u001b[0m\u001b[0;34m\u001b[0m\u001b[0;34m\u001b[0m\u001b[0;34m\u001b[0m\u001b[0m\n\u001b[1;32m      3\u001b[0m \u001b[0;32mfor\u001b[0m \u001b[0mi\u001b[0m \u001b[0;32min\u001b[0m \u001b[0mrange\u001b[0m\u001b[0;34m(\u001b[0m\u001b[0;36m700\u001b[0m\u001b[0;34m,\u001b[0m\u001b[0;36m801\u001b[0m\u001b[0;34m,\u001b[0m\u001b[0;36m1\u001b[0m\u001b[0;34m)\u001b[0m\u001b[0;34m:\u001b[0m\u001b[0;34m\u001b[0m\u001b[0;34m\u001b[0m\u001b[0m\n\u001b[0;32m----> 4\u001b[0;31m     \u001b[0msns\u001b[0m\u001b[0;34m.\u001b[0m\u001b[0mkdeplot\u001b[0m\u001b[0;34m(\u001b[0m\u001b[0mnp\u001b[0m\u001b[0;34m.\u001b[0m\u001b[0mreshape\u001b[0m\u001b[0;34m(\u001b[0m\u001b[0mFun_Test\u001b[0m\u001b[0;34m[\u001b[0m\u001b[0;36m3\u001b[0m\u001b[0;34m]\u001b[0m\u001b[0;34m[\u001b[0m\u001b[0mi\u001b[0m\u001b[0;34m]\u001b[0m\u001b[0;34m,\u001b[0m\u001b[0;34m(\u001b[0m\u001b[0;36m1\u001b[0m\u001b[0;34m,\u001b[0m\u001b[0mlen\u001b[0m\u001b[0;34m(\u001b[0m\u001b[0mFun_Test\u001b[0m\u001b[0;34m[\u001b[0m\u001b[0;36m3\u001b[0m\u001b[0;34m]\u001b[0m\u001b[0;34m[\u001b[0m\u001b[0mi\u001b[0m\u001b[0;34m]\u001b[0m\u001b[0;34m)\u001b[0m\u001b[0;34m**\u001b[0m\u001b[0;36m2\u001b[0m\u001b[0;34m)\u001b[0m\u001b[0;34m)\u001b[0m\u001b[0;34m[\u001b[0m\u001b[0;36m0\u001b[0m\u001b[0;34m]\u001b[0m\u001b[0;34m)\u001b[0m\u001b[0;34m\u001b[0m\u001b[0;34m\u001b[0m\u001b[0m\n\u001b[0m\u001b[1;32m      5\u001b[0m \u001b[0;31m#plt.savefig('a')\u001b[0m\u001b[0;34m\u001b[0m\u001b[0;34m\u001b[0m\u001b[0;34m\u001b[0m\u001b[0m\n",
      "\u001b[0;31mIndexError\u001b[0m: list index out of range"
     ]
    }
   ],
   "source": [
    "len(Fun_Test[3])\n",
    "#sns.kdeplot(np.reshape(Fun_Test[3][-1],(1,len(Fun_Test[3][0])**2))[-1])\n",
    "for i in range(700,801,1):\n",
    "    sns.kdeplot(np.reshape(Fun_Test[3][i],(1,len(Fun_Test[3][i])**2))[0])\n",
    "#plt.savefig('a')"
   ]
  },
  {
   "cell_type": "code",
   "execution_count": 13,
   "metadata": {},
   "outputs": [],
   "source": [
    "Random_gaussian = np.random.normal(0,100,(32,32))\n",
    "Age_gaussian = np.absolute(Random_gaussian - np.mean(Random_gaussian))\n",
    "Age_gaussian = np.triu(Age_gaussian, k=1)\n",
    "Age_adj = np.copy(Age_gaussian)\n"
   ]
  },
  {
   "cell_type": "code",
   "execution_count": 14,
   "metadata": {},
   "outputs": [
    {
     "data": {
      "text/plain": [
       "<matplotlib.axes._subplots.AxesSubplot at 0x7f80e2f0f320>"
      ]
     },
     "execution_count": 14,
     "metadata": {},
     "output_type": "execute_result"
    },
    {
     "data": {
      "image/png": "[encoded data removed]",
      "text/plain": [
       "<Figure size 432x288 with 1 Axes>"
      ]
     },
     "metadata": {
      "needs_background": "light"
     },
     "output_type": "display_data"
    }
   ],
   "source": [
    "sns.kdeplot(np.reshape(Fun_Test[3][0],(1,len(Fun_Test[3][0])**2))[0])\n"
   ]
  },
  {
   "cell_type": "code",
   "execution_count": 15,
   "metadata": {},
   "outputs": [
    {
     "data": {
      "text/plain": [
       "32"
      ]
     },
     "execution_count": 15,
     "metadata": {},
     "output_type": "execute_result"
    }
   ],
   "source": [
    "np.reshape(Fun_Test[3][0],(1,len(Fun_Test[3][0])**2))[0].max()"
   ]
  },
  {
   "cell_type": "code",
   "execution_count": 16,
   "metadata": {},
   "outputs": [],
   "source": [
    "Mean_Ene = []\n",
    "Thresh = []\n",
    "for i in range(1,121,1):\n",
    "    Fun_Test1 = Mainfunc(20,i,5000,1,1)\n",
    "    Mean_Ene.append(np.mean(Fun_Test1[1]))\n",
    "    Thresh.append(i/sc.special.comb(20,2))\n",
    "    "
   ]
  },
  {
   "cell_type": "code",
   "execution_count": 6,
   "metadata": {},
   "outputs": [
    {
     "data": {
      "text/plain": [
       "[<matplotlib.lines.Line2D at 0x7fbb1ebe6c88>]"
      ]
     },
     "execution_count": 6,
     "metadata": {},
     "output_type": "execute_result"
    },
    {
     "data": {
      "image/png": "[encoded data removed]",
      "text/plain": [
       "<Figure size 432x288 with 1 Axes>"
      ]
     },
     "metadata": {
      "needs_background": "light"
     },
     "output_type": "display_data"
    }
   ],
   "source": [
    "plt.plot(Thresh,Mean_Ene)"
   ]
  },
  {
   "cell_type": "code",
   "execution_count": 39,
   "metadata": {},
   "outputs": [],
   "source": [
    "np.savetxt('T20.txt',Thresh)\n",
    "np.savetxt('E20.txt',Mean_Ene)"
   ]
  },
  {
   "cell_type": "code",
   "execution_count": 44,
   "metadata": {},
   "outputs": [
    {
     "data": {
      "image/png": "[encoded data removed]",
      "text/plain": [
       "<Figure size 432x288 with 1 Axes>"
      ]
     },
     "metadata": {
      "needs_background": "light"
     },
     "output_type": "display_data"
    }
   ],
   "source": [
    "List_Nom = [20,32,64,100]\n",
    "for i in List_Nom :\n",
    "    Mean_Func = np.loadtxt('/home/mohammad/Documents/Thesis/Aged-Network/Results/Transition Point/E'+str(i)+'.txt')\n",
    "    Thres = np.loadtxt('/home/mohammad/Documents/Thesis/Aged-Network/Results/Transition Point/T'+str(i)+'.txt')\n",
    "    plt.plot(Thres,Mean_Func)\n",
    "    "
   ]
  },
  {
   "cell_type": "code",
   "execution_count": null,
   "metadata": {},
   "outputs": [],
   "source": []
  }
 ],
 "metadata": {
  "kernelspec": {
   "display_name": "Python 3",
   "language": "python",
   "name": "python3"
  },
  "language_info": {
   "codemirror_mode": {
    "name": "ipython",
    "version": 3
   },
   "file_extension": ".py",
   "mimetype": "text/x-python",
   "name": "python",
   "nbconvert_exporter": "python",
   "pygments_lexer": "ipython3",
   "version": "3.6.7"
  }
 },
 "nbformat": 4,
 "nbformat_minor": 2
}
